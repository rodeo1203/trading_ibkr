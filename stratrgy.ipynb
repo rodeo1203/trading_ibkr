{
 "cells": [
  {
   "cell_type": "markdown",
   "metadata": {},
   "source": [
    "#Strategy\n",
    "\n",
    "1. Time frame - min level + intraday\n",
    "2. Checking- every min\n",
    "3. Indicators= SMA 50, SMA 20\n",
    "\n",
    "Steps:\n",
    "code runs from 9:30 to 3:30\n",
    "1. At close of each min say, 10:15, we need indicator data by 10:15:01\n",
    "2. Check orders and open positons\n",
    "3. Check condition\n",
    "4. If condition satisfied, place order\n"
   ]
  }
 ],
 "metadata": {
  "language_info": {
   "name": "python"
  }
 },
 "nbformat": 4,
 "nbformat_minor": 2
}
