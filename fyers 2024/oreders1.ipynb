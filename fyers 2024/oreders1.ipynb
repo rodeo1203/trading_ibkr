{
 "cells": [
  {
   "cell_type": "code",
   "execution_count": 2,
   "metadata": {},
   "outputs": [],
   "source": [
    "with open('access.txt','r') as a:\n",
    "    access_token=a.read()\n",
    "client_id = 'K0QR7IQZI6-100'"
   ]
  },
  {
   "cell_type": "code",
   "execution_count": 9,
   "metadata": {},
   "outputs": [
    {
     "name": "stdout",
     "output_type": "stream",
     "text": [
      "{'code': 200, 'message': '', 's': 'ok', 'netPositions': [{'symbol': 'NSE:YESBANK-EQ', 'id': 'NSE:YESBANK-EQ-INTRADAY', 'buyAvg': 24.65, 'buyQty': 1, 'buyVal': 24.65, 'sellAvg': 0, 'sellQty': 0, 'sellVal': 0, 'netAvg': 24.65, 'netQty': 1, 'side': 1, 'qty': 1, 'productType': 'INTRADAY', 'realized_profit': 0, 'crossCurrency': '', 'rbiRefRate': 1, 'fyToken': '101000000011915', 'exchange': 10, 'segment': 10, 'dayBuyQty': 1, 'daySellQty': 0, 'cfBuyQty': 0, 'cfSellQty': 0, 'qtyMulti_com': 1, 'pl': 0, 'unrealized_profit': 0, 'ltp': 24.65, 'slNo': 0}], 'overall': {'count_open': 1, 'count_total': 1, 'pl_realized': 0, 'pl_total': 0, 'pl_unrealized': 0}}\n"
     ]
    }
   ],
   "source": [
    "from fyers_apiv3 import fyersModel\n",
    "\n",
    "# Initialize the FyersModel instance with your client_id, access_token, and enable async mode\n",
    "fyers = fyersModel.FyersModel(client_id=client_id, token=access_token,is_async=False, log_path=\"\")\n",
    "\n",
    "response = fyers.positions()\n",
    "print(response)\n"
   ]
  },
  {
   "cell_type": "markdown",
   "metadata": {},
   "source": [
    "# MARKET ORDER"
   ]
  },
  {
   "cell_type": "code",
   "execution_count": 8,
   "metadata": {},
   "outputs": [
    {
     "name": "stdout",
     "output_type": "stream",
     "text": [
      "{'code': 1101, 'message': 'Successfully placed order', 's': 'ok', 'id': '24012300377496'}\n"
     ]
    }
   ],
   "source": [
    "data={ \"symbol\": \"NSE:YESBANK-EQ\", \n",
    "      \"qty\": 1, \n",
    "      \"type\": 2, \n",
    "      \"side\": 1, \n",
    "      \"productType\": \"INTRADAY\", \n",
    "      \"limitPrice\": 0, \n",
    "      \"stopPrice\": 0, \n",
    "      \"validity\": \"DAY\", \n",
    "      \"stopLoss\": 0, \n",
    "      \"takeProfit\": 0, \n",
    "      \"offlineOrder\": False, \n",
    "      \"disclosedQty\": 0 }\n",
    "response1 = fyers.place_order(data=data)\n",
    "print(response1)"
   ]
  },
  {
   "cell_type": "markdown",
   "metadata": {},
   "source": [
    "# limit order"
   ]
  },
  {
   "cell_type": "code",
   "execution_count": 10,
   "metadata": {},
   "outputs": [
    {
     "name": "stdout",
     "output_type": "stream",
     "text": [
      "{'code': 1101, 'message': 'Successfully placed order', 's': 'ok', 'id': '24012300378877'}\n"
     ]
    }
   ],
   "source": [
    "\n",
    "data = {\n",
    "    \"symbol\":\"NSE:YESBANK-EQ\",\n",
    "    \"qty\":1,\n",
    "    \"type\":1,\n",
    "    \"side\":-1,\n",
    "    \"productType\":\"INTRADAY\",\n",
    "    \"limitPrice\":25,\n",
    "    \"stopPrice\":0,\n",
    "    \"validity\":\"DAY\",\n",
    "    \"disclosedQty\":0,\n",
    "    \"offlineOrder\":False,\n",
    "    \"orderTag\":\"tag1\"\n",
    "}\n",
    "response = fyers.place_order(data=data)\n",
    "print(response)"
   ]
  },
  {
   "cell_type": "markdown",
   "metadata": {},
   "source": [
    "# stop order market"
   ]
  },
  {
   "cell_type": "code",
   "execution_count": 11,
   "metadata": {},
   "outputs": [
    {
     "name": "stdout",
     "output_type": "stream",
     "text": [
      "{'code': 1101, 'message': 'Successfully placed order', 's': 'ok', 'id': '24012300385016'}\n"
     ]
    }
   ],
   "source": [
    "\n",
    "data = {\n",
    "    \"symbol\":\"NSE:YESBANK-EQ\",\n",
    "    \"qty\":1,\n",
    "    \"type\":3,\n",
    "    \"side\":-1,\n",
    "    \"productType\":\"INTRADAY\",\n",
    "    \"limitPrice\":0,\n",
    "    \"stopPrice\":24,\n",
    "    \"validity\":\"DAY\",\n",
    "    \"disclosedQty\":0,\n",
    "    \"offlineOrder\":False,\n",
    "    \"orderTag\":\"tag1\"\n",
    "}\n",
    "response3 = fyers.place_order(data=data)\n",
    "print(response3)"
   ]
  },
  {
   "cell_type": "markdown",
   "metadata": {},
   "source": [
    "# stop limit order"
   ]
  },
  {
   "cell_type": "code",
   "execution_count": 15,
   "metadata": {},
   "outputs": [
    {
     "name": "stdout",
     "output_type": "stream",
     "text": [
      "{'code': 1101, 'message': 'Successfully placed order', 's': 'ok', 'id': '24012300387935'}\n"
     ]
    }
   ],
   "source": [
    "data = {\n",
    "    \"symbol\":\"NSE:YESBANK-EQ\",\n",
    "    \"qty\":1,\n",
    "    \"type\":4,\n",
    "    \"side\":-1,\n",
    "    \"productType\":\"INTRADAY\",\n",
    "    \"limitPrice\":22,\n",
    "    \"stopPrice\":23,\n",
    "    \"validity\":\"DAY\",\n",
    "    \"disclosedQty\":0,\n",
    "    \"offlineOrder\":False,\n",
    "    \"orderTag\":\"tag1\"\n",
    "}\n",
    "response3 = fyers.place_order(data=data)\n",
    "print(response3)"
   ]
  },
  {
   "cell_type": "markdown",
   "metadata": {},
   "source": [
    "# cover order"
   ]
  },
  {
   "cell_type": "code",
   "execution_count": 35,
   "metadata": {},
   "outputs": [
    {
     "name": "stdout",
     "output_type": "stream",
     "text": [
      "{'code': 1101, 'message': 'Successfully placed order', 's': 'ok', 'id': '24012300421372'}\n"
     ]
    }
   ],
   "source": [
    "data = {\n",
    "    \"symbol\":\"NSE:HATHWAY-EQ\",\n",
    "    \"qty\":1,\n",
    "    \"type\":2,\n",
    "    \"side\":1,\n",
    "    \"productType\":\"CO\",\n",
    "    \"limitPrice\":0,\n",
    "    \"stopPrice\":0,\n",
    "    \"validity\":\"DAY\",\n",
    "    \"disclosedQty\":0,\n",
    "    \"offlineOrder\":False,\n",
    "    \"stopLoss\":3,\n",
    "    \"takeProfit\":0\n",
    "}\n",
    "response3 = fyers.place_order(data=data)\n",
    "print(response3)"
   ]
  },
  {
   "cell_type": "markdown",
   "metadata": {},
   "source": [
    "# bracket order"
   ]
  },
  {
   "cell_type": "code",
   "execution_count": 36,
   "metadata": {},
   "outputs": [
    {
     "name": "stdout",
     "output_type": "stream",
     "text": [
      "{'code': 1101, 'message': 'Successfully placed order', 's': 'ok', 'id': '24012300422553'}\n"
     ]
    }
   ],
   "source": [
    "data = {\n",
    "    \"symbol\":\"NSE:HATHWAY-EQ\",\n",
    "    \"qty\":1,\n",
    "    \"type\":2,\n",
    "    \"side\":1,\n",
    "    \"productType\":\"BO\",\n",
    "    \"limitPrice\":0,\n",
    "    \"stopPrice\":0,\n",
    "    \"validity\":\"DAY\",\n",
    "    \"disclosedQty\":0,\n",
    "    \"offlineOrder\":False,\n",
    "    \"stopLoss\":2,\n",
    "    \"takeProfit\":2\n",
    "}\n",
    "response3 = fyers.place_order(data=data)\n",
    "print(response3)"
   ]
  },
  {
   "cell_type": "markdown",
   "metadata": {},
   "source": [
    "# braket order with limit price"
   ]
  },
  {
   "cell_type": "code",
   "execution_count": 37,
   "metadata": {},
   "outputs": [
    {
     "name": "stdout",
     "output_type": "stream",
     "text": [
      "{'code': 1101, 'message': 'Successfully placed order', 's': 'ok', 'id': '24012300422553'}\n"
     ]
    }
   ],
   "source": [
    "data = {\n",
    "    \"symbol\":\"NSE:ONGC-EQ\",\n",
    "    \"qty\":1,\n",
    "    \"type\":1,\n",
    "    \"side\":1,\n",
    "    \"productType\":\"BO\",\n",
    "    \"limitPrice\":233,\n",
    "    \"stopPrice\":0,\n",
    "    \"validity\":\"DAY\",\n",
    "    \"disclosedQty\":0,\n",
    "    \"offlineOrder\":False,\n",
    "    \"stopLoss\":3,\n",
    "    \"takeProfit\":3\n",
    "}\n",
    "response6 = fyers.place_order(data=data)\n",
    "print(response3)"
   ]
  },
  {
   "cell_type": "markdown",
   "metadata": {},
   "source": [
    "# cancel order"
   ]
  },
  {
   "cell_type": "code",
   "execution_count": 12,
   "metadata": {},
   "outputs": [
    {
     "name": "stdout",
     "output_type": "stream",
     "text": [
      "{'code': 1103, 'message': 'Successfully cancelled order', 's': 'ok', 'id': '24012300385016'}\n"
     ]
    }
   ],
   "source": [
    "\n",
    "data = {\"id\":'24012300385016'}\n",
    "\n",
    "responsel = fyers.cancel_order(data=data)\n",
    "print(responsel)"
   ]
  }
 ],
 "metadata": {
  "kernelspec": {
   "display_name": "fyerssv3",
   "language": "python",
   "name": "python3"
  },
  "language_info": {
   "codemirror_mode": {
    "name": "ipython",
    "version": 3
   },
   "file_extension": ".py",
   "mimetype": "text/x-python",
   "name": "python",
   "nbconvert_exporter": "python",
   "pygments_lexer": "ipython3",
   "version": "3.9.6"
  }
 },
 "nbformat": 4,
 "nbformat_minor": 2
}
