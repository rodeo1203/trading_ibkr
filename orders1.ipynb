{
 "cells": [
  {
   "cell_type": "code",
   "execution_count": 19,
   "metadata": {},
   "outputs": [
    {
     "data": {
      "text/plain": [
       "<IB connected to 127.0.0.1:7497 clientId=101>"
      ]
     },
     "execution_count": 19,
     "metadata": {},
     "output_type": "execute_result"
    }
   ],
   "source": [
    "from ib_insync import *\n",
    "util.startLoop()  # uncomment this line when in a notebook\n",
    "\n",
    "ib = IB()\n",
    "ib.connect('127.0.0.1', 7497, clientId=101)"
   ]
  },
  {
   "cell_type": "markdown",
   "metadata": {},
   "source": [
    "# market order"
   ]
  },
  {
   "cell_type": "code",
   "execution_count": 20,
   "metadata": {},
   "outputs": [
    {
     "data": {
      "text/plain": [
       "Stock(conId=756733, symbol='SPY', exchange='SMART', primaryExchange='ARCA', currency='USD', localSymbol='SPY', tradingClass='SPY')"
      ]
     },
     "execution_count": 20,
     "metadata": {},
     "output_type": "execute_result"
    }
   ],
   "source": [
    "m=MarketOrder('BUY',1)\n",
    "c=ib.qualifyContracts(Stock('SPY','SMART','USD'))[0]\n",
    "c"
   ]
  },
  {
   "cell_type": "code",
   "execution_count": 21,
   "metadata": {},
   "outputs": [
    {
     "name": "stdout",
     "output_type": "stream",
     "text": [
      "Trade(contract=Stock(conId=756733, symbol='SPY', exchange='SMART', primaryExchange='ARCA', currency='USD', localSymbol='SPY', tradingClass='SPY'), order=MarketOrder(orderId=4, clientId=101, action='BUY', totalQuantity=1), orderStatus=OrderStatus(orderId=4, status='PendingSubmit', filled=0.0, remaining=0.0, avgFillPrice=0.0, permId=0, parentId=0, lastFillPrice=0.0, clientId=0, whyHeld='', mktCapPrice=0.0), fills=[], log=[TradeLogEntry(time=datetime.datetime(2024, 1, 31, 12, 58, 12, 766545, tzinfo=datetime.timezone.utc), status='PendingSubmit', message='', errorCode=0)], advancedError='')\n"
     ]
    }
   ],
   "source": [
    "po=ib.placeOrder(c,m)\n",
    "print(po)"
   ]
  },
  {
   "cell_type": "markdown",
   "metadata": {},
   "source": []
  },
  {
   "cell_type": "markdown",
   "metadata": {},
   "source": [
    "# limit order"
   ]
  },
  {
   "cell_type": "code",
   "execution_count": 22,
   "metadata": {},
   "outputs": [
    {
     "name": "stdout",
     "output_type": "stream",
     "text": [
      "LimitOrder(action='BUY', totalQuantity=1, lmtPrice=1600) Stock(conId=78743661, symbol='KOTAKBANK', exchange='NSE', primaryExchange='NSE', currency='INR', localSymbol='KOTAKBANK', tradingClass='KOTAKBANK')\n"
     ]
    }
   ],
   "source": [
    "m=LimitOrder('BUY',1,1600)\n",
    "c=ib.qualifyContracts(Stock('KOTAKBANK','NSE'))[0]\n",
    "print(m,c)"
   ]
  },
  {
   "cell_type": "code",
   "execution_count": 23,
   "metadata": {},
   "outputs": [],
   "source": [
    "po1=ib.placeOrder(c,m)"
   ]
  },
  {
   "cell_type": "code",
   "execution_count": 24,
   "metadata": {},
   "outputs": [
    {
     "data": {
      "text/plain": [
       "Trade(contract=Stock(conId=78743661, symbol='KOTAKBANK', exchange='NSE', primaryExchange='NSE', currency='INR', localSymbol='KOTAKBANK', tradingClass='KOTAKBANK'), order=LimitOrder(orderId=6, clientId=101, action='BUY', totalQuantity=1, lmtPrice=1600), orderStatus=OrderStatus(orderId=6, status='PendingSubmit', filled=0.0, remaining=0.0, avgFillPrice=0.0, permId=0, parentId=0, lastFillPrice=0.0, clientId=0, whyHeld='', mktCapPrice=0.0), fills=[], log=[TradeLogEntry(time=datetime.datetime(2024, 1, 31, 12, 58, 13, 502766, tzinfo=datetime.timezone.utc), status='PendingSubmit', message='', errorCode=0)], advancedError='')"
      ]
     },
     "execution_count": 24,
     "metadata": {},
     "output_type": "execute_result"
    }
   ],
   "source": [
    "po1"
   ]
  },
  {
   "cell_type": "markdown",
   "metadata": {},
   "source": [
    "# stop order"
   ]
  },
  {
   "cell_type": "code",
   "execution_count": 25,
   "metadata": {},
   "outputs": [
    {
     "name": "stdout",
     "output_type": "stream",
     "text": [
      "Stock(conId=83845926, symbol='ONGC', exchange='NSE', primaryExchange='NSE', currency='INR', localSymbol='ONGC', tradingClass='ONGC') StopOrder(action='BUY', totalQuantity=1, auxPrice=250)\n"
     ]
    }
   ],
   "source": [
    "c=ib.qualifyContracts(Stock('ONGC','NSE'))[0]\n",
    "sp=StopOrder('BUY',1,250)\n",
    "print(c,sp)\n"
   ]
  },
  {
   "cell_type": "code",
   "execution_count": 26,
   "metadata": {},
   "outputs": [
    {
     "data": {
      "text/plain": [
       "Trade(contract=Stock(conId=83845926, symbol='ONGC', exchange='NSE', primaryExchange='NSE', currency='INR', localSymbol='ONGC', tradingClass='ONGC'), order=StopOrder(orderId=8, clientId=101, action='BUY', totalQuantity=1, auxPrice=250), orderStatus=OrderStatus(orderId=8, status='PendingSubmit', filled=0.0, remaining=0.0, avgFillPrice=0.0, permId=0, parentId=0, lastFillPrice=0.0, clientId=0, whyHeld='', mktCapPrice=0.0), fills=[], log=[TradeLogEntry(time=datetime.datetime(2024, 1, 31, 12, 58, 14, 240780, tzinfo=datetime.timezone.utc), status='PendingSubmit', message='', errorCode=0)], advancedError='')"
      ]
     },
     "execution_count": 26,
     "metadata": {},
     "output_type": "execute_result"
    }
   ],
   "source": [
    "ib.placeOrder(c,sp)"
   ]
  },
  {
   "cell_type": "markdown",
   "metadata": {},
   "source": [
    "# cover order"
   ]
  },
  {
   "cell_type": "code",
   "execution_count": 27,
   "metadata": {},
   "outputs": [
    {
     "name": "stdout",
     "output_type": "stream",
     "text": [
      "Stock(conId=56986798, symbol='ADANIENT', exchange='NSE', primaryExchange='NSE', currency='INR', localSymbol='ADANIENT', tradingClass='ADANIENT')\n",
      "Trade(contract=Stock(conId=56986798, symbol='ADANIENT', exchange='NSE', primaryExchange='NSE', currency='INR', localSymbol='ADANIENT', tradingClass='ADANIENT'), order=Order(orderId=10, clientId=101, action='BUY', totalQuantity=1, orderType='LMT', lmtPrice=3000, transmit=False), orderStatus=OrderStatus(orderId=10, status='PendingSubmit', filled=0.0, remaining=0.0, avgFillPrice=0.0, permId=0, parentId=0, lastFillPrice=0.0, clientId=0, whyHeld='', mktCapPrice=0.0), fills=[], log=[TradeLogEntry(time=datetime.datetime(2024, 1, 31, 12, 58, 14, 943087, tzinfo=datetime.timezone.utc), status='PendingSubmit', message='', errorCode=0)], advancedError='')\n",
      "Trade(contract=Stock(conId=56986798, symbol='ADANIENT', exchange='NSE', primaryExchange='NSE', currency='INR', localSymbol='ADANIENT', tradingClass='ADANIENT'), order=Order(orderId=12, clientId=101, action='SELL', totalQuantity=1, orderType='STP', auxPrice=2990, parentId=10), orderStatus=OrderStatus(orderId=12, status='PendingSubmit', filled=0.0, remaining=0.0, avgFillPrice=0.0, permId=0, parentId=0, lastFillPrice=0.0, clientId=0, whyHeld='', mktCapPrice=0.0), fills=[], log=[TradeLogEntry(time=datetime.datetime(2024, 1, 31, 12, 58, 14, 944086, tzinfo=datetime.timezone.utc), status='PendingSubmit', message='', errorCode=0)], advancedError='')\n"
     ]
    }
   ],
   "source": [
    "price=3000\n",
    "c=ib.qualifyContracts(Stock('ADANIENT','NSE'))[0]\n",
    "print(c)\n",
    "parent = Order(orderId=ib.client.getReqId(),action='BUY',orderType='LMT',totalQuantity=1,lmtPrice=price,transmit = False)\n",
    "\n",
    "\n",
    "stopLoss = Order()\n",
    "stopLoss.orderId = parent.orderId + 2\n",
    "stopLoss.action = \"SELL\" if parent.action == \"BUY\" else \"BUY\"\n",
    "stopLoss.orderType = \"STP\"\n",
    "stopLoss.auxPrice = price-10\n",
    "stopLoss.totalQuantity = parent.totalQuantity\n",
    "stopLoss.parentId = parent.orderId\n",
    "stopLoss.transmit = True\n",
    "\n",
    "ords=[parent, stopLoss]\n",
    "\n",
    "for o in ords:\n",
    "    trade=ib.placeOrder(c, o)\n",
    "    print(trade)"
   ]
  },
  {
   "cell_type": "markdown",
   "metadata": {},
   "source": [
    "# bracket order"
   ]
  },
  {
   "cell_type": "code",
   "execution_count": 28,
   "metadata": {},
   "outputs": [
    {
     "name": "stdout",
     "output_type": "stream",
     "text": [
      "Stock(conId=44652000, symbol='RELIANCE', exchange='NSE', primaryExchange='NSE', currency='INR', localSymbol='RELIANCE', tradingClass='RELIANCE')\n",
      "Trade(contract=Stock(conId=44652000, symbol='RELIANCE', exchange='NSE', primaryExchange='NSE', currency='INR', localSymbol='RELIANCE', tradingClass='RELIANCE'), order=Order(orderId=13, clientId=101, action='BUY', totalQuantity=1, orderType='LMT', lmtPrice=2890, transmit=False), orderStatus=OrderStatus(orderId=13, status='PendingSubmit', filled=0.0, remaining=0.0, avgFillPrice=0.0, permId=0, parentId=0, lastFillPrice=0.0, clientId=0, whyHeld='', mktCapPrice=0.0), fills=[], log=[TradeLogEntry(time=datetime.datetime(2024, 1, 31, 12, 58, 15, 743394, tzinfo=datetime.timezone.utc), status='PendingSubmit', message='', errorCode=0)], advancedError='')\n",
      "Trade(contract=Stock(conId=44652000, symbol='RELIANCE', exchange='NSE', primaryExchange='NSE', currency='INR', localSymbol='RELIANCE', tradingClass='RELIANCE'), order=Order(orderId=14, clientId=101, action='SELL', totalQuantity=1, orderType='LMT', lmtPrice=2893, transmit=False, parentId=13), orderStatus=OrderStatus(orderId=14, status='PendingSubmit', filled=0.0, remaining=0.0, avgFillPrice=0.0, permId=0, parentId=0, lastFillPrice=0.0, clientId=0, whyHeld='', mktCapPrice=0.0), fills=[], log=[TradeLogEntry(time=datetime.datetime(2024, 1, 31, 12, 58, 15, 743394, tzinfo=datetime.timezone.utc), status='PendingSubmit', message='', errorCode=0)], advancedError='')\n",
      "Trade(contract=Stock(conId=44652000, symbol='RELIANCE', exchange='NSE', primaryExchange='NSE', currency='INR', localSymbol='RELIANCE', tradingClass='RELIANCE'), order=Order(orderId=15, clientId=101, action='SELL', totalQuantity=1, orderType='STP', auxPrice=2887, parentId=13), orderStatus=OrderStatus(orderId=15, status='PendingSubmit', filled=0.0, remaining=0.0, avgFillPrice=0.0, permId=0, parentId=0, lastFillPrice=0.0, clientId=0, whyHeld='', mktCapPrice=0.0), fills=[], log=[TradeLogEntry(time=datetime.datetime(2024, 1, 31, 12, 58, 15, 743394, tzinfo=datetime.timezone.utc), status='PendingSubmit', message='', errorCode=0)], advancedError='')\n"
     ]
    }
   ],
   "source": [
    "price=2890\n",
    "c=ib.qualifyContracts(Stock('RELIANCE','NSE','INR'))[0]\n",
    "print(c)\n",
    "\n",
    "parent = Order(\n",
    "    orderId=ib.client.getReqId(),\n",
    "    action='BUY',\n",
    "    orderType='LMT',\n",
    "    totalQuantity=1,\n",
    "    lmtPrice=price,\n",
    "    transmit = False)\n",
    "\n",
    "\n",
    "takeProfit = Order()        \n",
    "takeProfit.orderId = ib.client.getReqId()\n",
    "takeProfit.action = \"SELL\" if parent.action == \"BUY\" else \"BUY\"\n",
    "takeProfit.orderType = \"LMT\"\n",
    "takeProfit.totalQuantity = parent.totalQuantity\n",
    "takeProfit.lmtPrice = price+3\n",
    "takeProfit.parentId = parent.orderId\n",
    "takeProfit.transmit = False\n",
    "\n",
    "\n",
    "stopLoss = Order()\n",
    "stopLoss.orderId = ib.client.getReqId()\n",
    "stopLoss.action = \"SELL\" if parent.action == \"BUY\" else \"BUY\"\n",
    "stopLoss.orderType = \"STP\"\n",
    "stopLoss.auxPrice = price-3\n",
    "stopLoss.totalQuantity = parent.totalQuantity\n",
    "stopLoss.parentId = parent.orderId\n",
    "stopLoss.transmit = True\n",
    "\n",
    "ords=[parent, takeProfit, stopLoss]\n",
    "\n",
    "for o in ords:\n",
    "    trade=ib.placeOrder(c, o)\n",
    "    print(trade)\n"
   ]
  },
  {
   "cell_type": "markdown",
   "metadata": {},
   "source": [
    "# trailing order"
   ]
  },
  {
   "cell_type": "code",
   "execution_count": 29,
   "metadata": {},
   "outputs": [
    {
     "name": "stdout",
     "output_type": "stream",
     "text": [
      "Stock(conId=382750910, symbol='HDFCBANK', exchange='NSE', primaryExchange='NSE', currency='INR', localSymbol='HDFCBANK', tradingClass='HDFCBANK')\n",
      "Trade(contract=Stock(conId=382750910, symbol='HDFCBANK', exchange='NSE', primaryExchange='NSE', currency='INR', localSymbol='HDFCBANK', tradingClass='HDFCBANK'), order=Order(orderId=17, clientId=101, action='SELL', totalQuantity=1, orderType='TRAIL', trailStopPrice=1372, trailingPercent=2), orderStatus=OrderStatus(orderId=17, status='PendingSubmit', filled=0.0, remaining=0.0, avgFillPrice=0.0, permId=0, parentId=0, lastFillPrice=0.0, clientId=0, whyHeld='', mktCapPrice=0.0), fills=[], log=[TradeLogEntry(time=datetime.datetime(2024, 1, 31, 12, 58, 16, 650420, tzinfo=datetime.timezone.utc), status='PendingSubmit', message='', errorCode=0)], advancedError='')\n"
     ]
    }
   ],
   "source": [
    "price=1400\n",
    "c=ib.qualifyContracts(Stock('HDFCBANK','NSE'))[0]\n",
    "print(c)\n",
    "\n",
    "order = Order()\n",
    "order.orderId = ib.client.getReqId()\n",
    "order.action = 'SELL'\n",
    "order.orderType = \"TRAIL\"\n",
    "order.totalQuantity = 1\n",
    "order.trailingPercent = 2\n",
    "order.trailStopPrice = int(price*0.98)\n",
    "trade=ib.placeOrder(c, order)\n",
    "print(trade)"
   ]
  },
  {
   "cell_type": "code",
   "execution_count": 30,
   "metadata": {},
   "outputs": [
    {
     "data": {
      "text/plain": [
       "18"
      ]
     },
     "execution_count": 30,
     "metadata": {},
     "output_type": "execute_result"
    }
   ],
   "source": [
    "ib.client.getReqId()"
   ]
  },
  {
   "cell_type": "markdown",
   "metadata": {},
   "source": [
    "# cancel order"
   ]
  },
  {
   "cell_type": "code",
   "execution_count": 31,
   "metadata": {},
   "outputs": [],
   "source": [
    "def close_all_orders():\n",
    "    orders = ib.reqOpenOrders()\n",
    "    df=util.df(orders)\n",
    "\n",
    "    df.drop('contract',axis=1,inplace=True)\n",
    "    for ord in df.order.to_list():\n",
    "        print(ord)\n",
    "        b=ib.cancelOrder(ord)\n",
    "        print(b)\n",
    "    return 1"
   ]
  },
  {
   "cell_type": "code",
   "execution_count": null,
   "metadata": {},
   "outputs": [],
   "source": [
    "def close_all_orders():\n",
    "    orders = ib.reqAllOpenOrders()\n",
    "    print(orders)\n",
    "    for ord in orders:\n",
    "        b=ib.cancelOrder(ord.order)\n",
    "        print(b)\n",
    "    return 1"
   ]
  },
  {
   "cell_type": "code",
   "execution_count": null,
   "metadata": {},
   "outputs": [
    {
     "name": "stdout",
     "output_type": "stream",
     "text": [
      "Order(orderId=14, clientId=101, permId=1143325781, action='SELL', totalQuantity=1.0, orderType='LMT', lmtPrice=2893.0, auxPrice=0.0, transmit=False, parentId=13)\n",
      "Trade(contract=Stock(conId=44652000, symbol='RELIANCE', exchange='NSE', primaryExchange='NSE', currency='INR', localSymbol='RELIANCE', tradingClass='RELIANCE'), order=Order(orderId=14, clientId=101, permId=1143325781, action='SELL', totalQuantity=1.0, orderType='LMT', lmtPrice=2893.0, auxPrice=0.0, transmit=False, parentId=13), orderStatus=OrderStatus(orderId=14, status='PendingCancel', filled=0.0, remaining=1.0, avgFillPrice=0.0, permId=1143325781, parentId=13, lastFillPrice=0.0, clientId=101, whyHeld='child', mktCapPrice=0.0), fills=[], log=[TradeLogEntry(time=datetime.datetime(2024, 1, 31, 12, 58, 15, 743394, tzinfo=datetime.timezone.utc), status='PendingSubmit', message='', errorCode=0), TradeLogEntry(time=datetime.datetime(2024, 1, 31, 12, 58, 16, 316310, tzinfo=datetime.timezone.utc), status='PreSubmitted', message='', errorCode=0), TradeLogEntry(time=datetime.datetime(2024, 1, 31, 12, 58, 16, 743555, tzinfo=datetime.timezone.utc), status='PendingCancel', message='', errorCode=0)], advancedError='')\n",
      "Order(orderId=13, clientId=101, permId=1143325780, action='BUY', totalQuantity=1.0, orderType='LMT', lmtPrice=2890.0, auxPrice=0.0, transmit=False)\n",
      "Trade(contract=Stock(conId=44652000, symbol='RELIANCE', exchange='NSE', primaryExchange='NSE', currency='INR', localSymbol='RELIANCE', tradingClass='RELIANCE'), order=Order(orderId=13, clientId=101, permId=1143325780, action='BUY', totalQuantity=1.0, orderType='LMT', lmtPrice=2890.0, auxPrice=0.0, transmit=False), orderStatus=OrderStatus(orderId=13, status='PendingCancel', filled=0.0, remaining=1.0, avgFillPrice=0.0, permId=1143325780, parentId=0, lastFillPrice=0.0, clientId=101, whyHeld='', mktCapPrice=2885.65), fills=[], log=[TradeLogEntry(time=datetime.datetime(2024, 1, 31, 12, 58, 15, 743394, tzinfo=datetime.timezone.utc), status='PendingSubmit', message='', errorCode=0), TradeLogEntry(time=datetime.datetime(2024, 1, 31, 12, 58, 16, 310331, tzinfo=datetime.timezone.utc), status='PreSubmitted', message='', errorCode=0), TradeLogEntry(time=datetime.datetime(2024, 1, 31, 12, 58, 16, 330036, tzinfo=datetime.timezone.utc), status='Submitted', message='', errorCode=0), TradeLogEntry(time=datetime.datetime(2024, 1, 31, 12, 58, 16, 745517, tzinfo=datetime.timezone.utc), status='PendingCancel', message='', errorCode=0)], advancedError='')\n",
      "Order(orderId=17, clientId=101, permId=1143325783, action='SELL', totalQuantity=1.0, orderType='TRAIL', lmtPrice=0.0, trailStopPrice=1372, trailingPercent=2)\n",
      "Trade(contract=Stock(conId=382750910, symbol='HDFCBANK', exchange='NSE', primaryExchange='NSE', currency='INR', localSymbol='HDFCBANK', tradingClass='HDFCBANK'), order=Order(orderId=17, clientId=101, permId=1143325783, action='SELL', totalQuantity=1.0, orderType='TRAIL', lmtPrice=0.0, trailStopPrice=1372, trailingPercent=2), orderStatus=OrderStatus(orderId=17, status='PendingCancel', filled=0.0, remaining=1.0, avgFillPrice=0.0, permId=1143325783, parentId=0, lastFillPrice=0.0, clientId=101, whyHeld='', mktCapPrice=0.0), fills=[], log=[TradeLogEntry(time=datetime.datetime(2024, 1, 31, 12, 58, 16, 650420, tzinfo=datetime.timezone.utc), status='PendingSubmit', message='', errorCode=0), TradeLogEntry(time=datetime.datetime(2024, 1, 31, 12, 58, 16, 728373, tzinfo=datetime.timezone.utc), status='PendingSubmit', message='', errorCode=0), TradeLogEntry(time=datetime.datetime(2024, 1, 31, 12, 58, 16, 747292, tzinfo=datetime.timezone.utc), status='PendingCancel', message='', errorCode=0)], advancedError='')\n",
      "Order(orderId=15, clientId=101, permId=1143325782, action='SELL', totalQuantity=1.0, orderType='STP', lmtPrice=0.0, auxPrice=2887.0, parentId=13)\n",
      "Trade(contract=Stock(conId=44652000, symbol='RELIANCE', exchange='NSE', primaryExchange='NSE', currency='INR', localSymbol='RELIANCE', tradingClass='RELIANCE'), order=Order(orderId=15, clientId=101, permId=1143325782, action='SELL', totalQuantity=1.0, orderType='STP', lmtPrice=0.0, auxPrice=2887.0, parentId=13), orderStatus=OrderStatus(orderId=15, status='PendingCancel', filled=0.0, remaining=1.0, avgFillPrice=0.0, permId=1143325782, parentId=13, lastFillPrice=0.0, clientId=101, whyHeld='child,trigger', mktCapPrice=0.0), fills=[], log=[TradeLogEntry(time=datetime.datetime(2024, 1, 31, 12, 58, 15, 743394, tzinfo=datetime.timezone.utc), status='PendingSubmit', message='', errorCode=0), TradeLogEntry(time=datetime.datetime(2024, 1, 31, 12, 58, 16, 323125, tzinfo=datetime.timezone.utc), status='PreSubmitted', message='', errorCode=0), TradeLogEntry(time=datetime.datetime(2024, 1, 31, 12, 58, 16, 749339, tzinfo=datetime.timezone.utc), status='PendingCancel', message='', errorCode=0)], advancedError='')\n",
      "StopOrder(orderId=8, clientId=101, permId=1143325777, action='BUY', totalQuantity=1.0, lmtPrice=0.0, auxPrice=250.0)\n",
      "Trade(contract=Stock(conId=83845926, symbol='ONGC', exchange='NSE', primaryExchange='NSE', currency='INR', localSymbol='ONGC', tradingClass='ONGC'), order=StopOrder(orderId=8, clientId=101, permId=1143325777, action='BUY', totalQuantity=1.0, lmtPrice=0.0, auxPrice=250.0), orderStatus=OrderStatus(orderId=8, status='PendingCancel', filled=0.0, remaining=1.0, avgFillPrice=0.0, permId=1143325777, parentId=0, lastFillPrice=0.0, clientId=101, whyHeld='trigger', mktCapPrice=0.0), fills=[], log=[TradeLogEntry(time=datetime.datetime(2024, 1, 31, 12, 58, 14, 240780, tzinfo=datetime.timezone.utc), status='PendingSubmit', message='', errorCode=0), TradeLogEntry(time=datetime.datetime(2024, 1, 31, 12, 58, 14, 605585, tzinfo=datetime.timezone.utc), status='PreSubmitted', message='', errorCode=0), TradeLogEntry(time=datetime.datetime(2024, 1, 31, 12, 58, 16, 750297, tzinfo=datetime.timezone.utc), status='PendingCancel', message='', errorCode=0)], advancedError='')\n",
      "LimitOrder(orderId=6, clientId=101, permId=1143325776, action='BUY', totalQuantity=1.0, lmtPrice=1600.0, auxPrice=0.0)\n",
      "Trade(contract=Stock(conId=78743661, symbol='KOTAKBANK', exchange='NSE', primaryExchange='NSE', currency='INR', localSymbol='KOTAKBANK', tradingClass='KOTAKBANK'), order=LimitOrder(orderId=6, clientId=101, permId=1143325776, action='BUY', totalQuantity=1.0, lmtPrice=1600.0, auxPrice=0.0), orderStatus=OrderStatus(orderId=6, status='PendingCancel', filled=0.0, remaining=1.0, avgFillPrice=0.0, permId=1143325776, parentId=0, lastFillPrice=0.0, clientId=101, whyHeld='', mktCapPrice=0.0), fills=[], log=[TradeLogEntry(time=datetime.datetime(2024, 1, 31, 12, 58, 13, 502766, tzinfo=datetime.timezone.utc), status='PendingSubmit', message='', errorCode=0), TradeLogEntry(time=datetime.datetime(2024, 1, 31, 12, 58, 13, 873108, tzinfo=datetime.timezone.utc), status='PreSubmitted', message='', errorCode=0), TradeLogEntry(time=datetime.datetime(2024, 1, 31, 12, 58, 13, 876277, tzinfo=datetime.timezone.utc), status='Submitted', message='', errorCode=0), TradeLogEntry(time=datetime.datetime(2024, 1, 31, 12, 58, 16, 751778, tzinfo=datetime.timezone.utc), status='PendingCancel', message='', errorCode=0)], advancedError='')\n",
      "Order(orderId=12, clientId=101, permId=1143325779, action='SELL', totalQuantity=1.0, orderType='STP', lmtPrice=0.0, auxPrice=2990.0, parentId=10)\n",
      "Trade(contract=Stock(conId=56986798, symbol='ADANIENT', exchange='NSE', primaryExchange='NSE', currency='INR', localSymbol='ADANIENT', tradingClass='ADANIENT'), order=Order(orderId=12, clientId=101, permId=1143325779, action='SELL', totalQuantity=1.0, orderType='STP', lmtPrice=0.0, auxPrice=2990.0, parentId=10), orderStatus=OrderStatus(orderId=12, status='PendingCancel', filled=0.0, remaining=1.0, avgFillPrice=0.0, permId=1143325779, parentId=10, lastFillPrice=0.0, clientId=101, whyHeld='child,trigger', mktCapPrice=0.0), fills=[], log=[TradeLogEntry(time=datetime.datetime(2024, 1, 31, 12, 58, 14, 944086, tzinfo=datetime.timezone.utc), status='PendingSubmit', message='', errorCode=0), TradeLogEntry(time=datetime.datetime(2024, 1, 31, 12, 58, 15, 414306, tzinfo=datetime.timezone.utc), status='PreSubmitted', message='', errorCode=0), TradeLogEntry(time=datetime.datetime(2024, 1, 31, 12, 58, 16, 753606, tzinfo=datetime.timezone.utc), status='PendingCancel', message='', errorCode=0)], advancedError='')\n",
      "Order(orderId=10, clientId=101, permId=1143325778, action='BUY', totalQuantity=1.0, orderType='LMT', lmtPrice=3000.0, auxPrice=0.0, transmit=False)\n",
      "Trade(contract=Stock(conId=56986798, symbol='ADANIENT', exchange='NSE', primaryExchange='NSE', currency='INR', localSymbol='ADANIENT', tradingClass='ADANIENT'), order=Order(orderId=10, clientId=101, permId=1143325778, action='BUY', totalQuantity=1.0, orderType='LMT', lmtPrice=3000.0, auxPrice=0.0, transmit=False), orderStatus=OrderStatus(orderId=10, status='PendingCancel', filled=0.0, remaining=1.0, avgFillPrice=0.0, permId=1143325778, parentId=0, lastFillPrice=0.0, clientId=101, whyHeld='', mktCapPrice=0.0), fills=[], log=[TradeLogEntry(time=datetime.datetime(2024, 1, 31, 12, 58, 14, 943087, tzinfo=datetime.timezone.utc), status='PendingSubmit', message='', errorCode=0), TradeLogEntry(time=datetime.datetime(2024, 1, 31, 12, 58, 15, 409717, tzinfo=datetime.timezone.utc), status='PreSubmitted', message='', errorCode=0), TradeLogEntry(time=datetime.datetime(2024, 1, 31, 12, 58, 15, 419672, tzinfo=datetime.timezone.utc), status='Submitted', message='', errorCode=0), TradeLogEntry(time=datetime.datetime(2024, 1, 31, 12, 58, 16, 754600, tzinfo=datetime.timezone.utc), status='PendingCancel', message='', errorCode=0)], advancedError='')\n",
      "MarketOrder(orderId=4, clientId=101, permId=1143325775, action='BUY', totalQuantity=1.0, lmtPrice=489.07, auxPrice=0.0)\n",
      "Trade(contract=Stock(conId=756733, symbol='SPY', exchange='SMART', primaryExchange='ARCA', currency='USD', localSymbol='SPY', tradingClass='SPY'), order=MarketOrder(orderId=4, clientId=101, permId=1143325775, action='BUY', totalQuantity=1.0, lmtPrice=489.07, auxPrice=0.0), orderStatus=OrderStatus(orderId=4, status='PendingCancel', filled=0.0, remaining=1.0, avgFillPrice=0.0, permId=1143325775, parentId=0, lastFillPrice=0.0, clientId=101, whyHeld='', mktCapPrice=0.0), fills=[], log=[TradeLogEntry(time=datetime.datetime(2024, 1, 31, 12, 58, 12, 766545, tzinfo=datetime.timezone.utc), status='PendingSubmit', message='', errorCode=0), TradeLogEntry(time=datetime.datetime(2024, 1, 31, 12, 58, 13, 330420, tzinfo=datetime.timezone.utc), status='PreSubmitted', message='', errorCode=0), TradeLogEntry(time=datetime.datetime(2024, 1, 31, 12, 58, 16, 755600, tzinfo=datetime.timezone.utc), status='PendingCancel', message='', errorCode=0)], advancedError='')\n"
     ]
    },
    {
     "data": {
      "text/plain": [
       "1"
      ]
     },
     "execution_count": 32,
     "metadata": {},
     "output_type": "execute_result"
    },
    {
     "name": "stderr",
     "output_type": "stream",
     "text": [
      "Error 1100, reqId -1: Connectivity between IB and Trader Workstation has been lost.\n",
      "Error 1100, reqId -1: Connectivity between IB and Trader Workstation has been lost.\n",
      "Error 1100, reqId -1: Connectivity between IB and Trader Workstation has been lost.\n",
      "Error 1100, reqId -1: Connectivity between IB and Trader Workstation has been lost.\n",
      "Error 1102, reqId -1: Connectivity between IB and Trader Workstation has been restored - data maintained. All data farms are connected: uscrypto; usfarm.nj; hfarm; usfuture; cashfarm; usopt; usfarm; euhmds; hkhmds; ushmds; fundfarm; secdefhk.\n",
      "Error 1102, reqId -1: Connectivity between IB and Trader Workstation has been restored - data maintained. All data farms are connected: uscrypto; usfarm.nj; hfarm; usfuture; cashfarm; usopt; usfarm; euhmds; hkhmds; ushmds; fundfarm; secdefhk.\n",
      "Error 1100, reqId -1: Connectivity between IB and Trader Workstation has been lost.\n",
      "Error 1100, reqId -1: Connectivity between IB and Trader Workstation has been lost.\n",
      "Error 1100, reqId -1: Connectivity between IB and Trader Workstation has been lost.\n",
      "Error 1100, reqId -1: Connectivity between IB and Trader Workstation has been lost.\n",
      "Error 1100, reqId -1: Connectivity between IB and Trader Workstation has been lost.\n",
      "Error 1100, reqId -1: Connectivity between IB and Trader Workstation has been lost.\n",
      "Error 1102, reqId -1: Connectivity between IB and Trader Workstation has been restored - data maintained. All data farms are connected: usfarm.nj; hfarm; usfuture; cashfarm; usfarm; euhmds; hkhmds; ushmds; fundfarm; secdefhk.\n",
      "Error 1102, reqId -1: Connectivity between IB and Trader Workstation has been restored - data maintained. All data farms are connected: usfarm.nj; hfarm; usfuture; cashfarm; usfarm; euhmds; hkhmds; ushmds; fundfarm; secdefhk.\n",
      "Peer closed connection.\n",
      "Peer closed connection.\n"
     ]
    }
   ],
   "source": [
    "close_all_orders()"
   ]
  },
  {
   "cell_type": "code",
   "execution_count": null,
   "metadata": {},
   "outputs": [],
   "source": [
    "util.df(ib.positons())"
   ]
  }
 ],
 "metadata": {
  "kernelspec": {
   "display_name": "ibkv2",
   "language": "python",
   "name": "python3"
  },
  "language_info": {
   "codemirror_mode": {
    "name": "ipython",
    "version": 3
   },
   "file_extension": ".py",
   "mimetype": "text/x-python",
   "name": "python",
   "nbconvert_exporter": "python",
   "pygments_lexer": "ipython3",
   "version": "3.11.4"
  }
 },
 "nbformat": 4,
 "nbformat_minor": 2
}
