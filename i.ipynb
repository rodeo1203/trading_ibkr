{
 "cells": [
  {
   "cell_type": "code",
   "execution_count": null,
   "metadata": {},
   "outputs": [],
   "source": [
    "from ib_insync import *\n",
    "util.startLoop()  # uncomment this line when in a notebook\n",
    "\n",
    "ib = IB()\n",
    "ib.connect('127.0.0.1', 7497, clientId=1)\n",
    "\n",
    "contract = Forex('EURUSD')\n"
   ]
  },
  {
   "cell_type": "code",
   "execution_count": null,
   "metadata": {},
   "outputs": [],
   "source": [
    "c1= Contract(symbol='RELIANCE', secType='STK', exchange='NSE', currency='INR')\n",
    "c1=ib.qualifyContracts(c1)[0]"
   ]
  },
  {
   "cell_type": "code",
   "execution_count": null,
   "metadata": {},
   "outputs": [],
   "source": [
    "bars = ib.reqHistoricalData(\n",
    " c1, endDateTime='', durationStr='30 D',\n",
    "    barSizeSetting='1 hour', whatToShow='MIDPOINT', useRTH=True)\n",
    "\n",
    "# convert to pandas dataframe (pandas needs to be installed):\n",
    "df = util.df(bars)\n",
    "print(df)"
   ]
  },
  {
   "cell_type": "code",
   "execution_count": null,
   "metadata": {},
   "outputs": [],
   "source": [
    "c2=Index('SPX','CBOE')"
   ]
  },
  {
   "cell_type": "code",
   "execution_count": null,
   "metadata": {},
   "outputs": [],
   "source": [
    "bars = ib.reqHistoricalData(\n",
    " c2, endDateTime='', durationStr='30 D',\n",
    "    barSizeSetting='1 hour', whatToShow='MIDPOINT', useRTH=True)\n",
    "\n",
    "# convert to pandas dataframe (pandas needs to be installed):\n",
    "df = util.df(bars)\n",
    "print(df)"
   ]
  },
  {
   "cell_type": "code",
   "execution_count": null,
   "metadata": {},
   "outputs": [],
   "source": [
    "c3=Forex('EURUSD')\n",
    "# c3=Contract(conId=12087792)\n",
    "c3=Contract(secType='CASH', symbol='EUR', exchange='IDEALPRO', currency='USD')\n",
    "c3=ib.qualifyContracts(c3)\n",
    "c3"
   ]
  },
  {
   "cell_type": "code",
   "execution_count": null,
   "metadata": {},
   "outputs": [],
   "source": [
    "c4=Future('NIFTY50','20240125', 'NSE')\n",
    "c4=Contract(exchange='NSE',symbol='NIFTY50', lastTradeDateOrContractMonth='20240125',secType='FUT')\n",
    "c4=ib.qualifyContracts(c4)[0]\n",
    "print(c4)\n"
   ]
  },
  {
   "cell_type": "code",
   "execution_count": null,
   "metadata": {},
   "outputs": [],
   "source": [
    "c5=Crypto('BTC','PAXOS')\n",
    "c5=ib.qualifyContracts(c7)[0]\n",
    "c5"
   ]
  },
  {
   "cell_type": "code",
   "execution_count": null,
   "metadata": {},
   "outputs": [],
   "source": [
    "c6=Option('NIFTY50','20240125',21600, 'C','NSE',)\n",
    "c6=Contract(symbol='NIFTY50',secType='OPT',exchange='NSE',lastTradeDateOrContractMonth='20240125', strike=21600.0, right='C')\n",
    "c6=ib.qualifyContracts(c6)[0]\n",
    "print(c6)"
   ]
  },
  {
   "cell_type": "code",
   "execution_count": null,
   "metadata": {},
   "outputs": [],
   "source": [
    "str1='20240105 15:59:00'\n",
    "import datetime\n",
    "\n",
    "end1=datetime.datetime(2023,1,11,0,0,00)\n",
    "\n",
    "bars = ib.reqHistoricalData(\n",
    "    c3, endDateTime='', durationStr='1 D',\n",
    "    barSizeSetting='1 min', whatToShow='BID', useRTH=True)\n",
    "\n",
    "# convert to pandas dataframe (pandas needs to be installed):\n",
    "df1 = util.df(bars)\n",
    "print(df1)\n",
    "df1.set_index('date',inplace=True)\n",
    "\n",
    "bars = ib.reqHistoricalData(\n",
    "    c3, endDateTime='', durationStr='1 D',\n",
    "    barSizeSetting='1 min', whatToShow='ASK', useRTH=True)\n",
    "\n",
    "# convert to pandas dataframe (pandas needs to be installed):\n",
    "df2 = util.df(bars)\n",
    "print(df2)\n",
    "df2.set_index('date',inplace=True)\n",
    "\n",
    "import mplfinance as mpf\n",
    "#plot df\n",
    "import matplotlib.pyplot as plt\n",
    "addplot1=mpf.make_addplot(df2.close,color='green')\n",
    "mpf.plot(df1,type='line',addplot=addplot1,style='yahoo')\n",
    "plt.show()"
   ]
  },
  {
   "cell_type": "code",
   "execution_count": null,
   "metadata": {},
   "outputs": [],
   "source": [
    "bars = ib.reqHistoricalData(\n",
    "  c1, endDateTime='', durationStr='1 D',\n",
    "  barSizeSetting='1 min', whatToShow='MIDPOINT', useRTH=True)\n",
    "\n",
    "# convert to pandas dataframe (pandas needs to be installed):\n",
    "df1 = util.df(bars)\n",
    "print(df1)\n",
    "df1.set_index('date',inplace=True)\n",
    "\n",
    "t1=ib.reqHistoricalTicks(c1,startDateTime='20240116 00:00:00',endDateTime='',numberOfTicks=1000,whatToShow='MIDPOINT',useRth=True)\n",
    "\n",
    "df1 = util.df(t1)\n",
    "print(df1)\n"
   ]
  },
  {
   "cell_type": "code",
   "execution_count": null,
   "metadata": {},
   "outputs": [],
   "source": [
    "def year23data(a):\n",
    "    bars = ib.reqHistoricalData(\n",
    "        a, endDateTime='20240101 00:00:00', durationStr='240 D',\n",
    "        barSizeSetting='1 D', whatToShow='MIDPOINT', useRTH=True)\n",
    "    datao = util.df(bars)\n",
    "    return(datao)\n",
    "    "
   ]
  },
  {
   "cell_type": "code",
   "execution_count": null,
   "metadata": {},
   "outputs": [],
   "source": [
    "df3=year23data(c1)"
   ]
  }
 ],
 "metadata": {
  "kernelspec": {
   "display_name": "Python 3",
   "language": "python",
   "name": "python3"
  },
  "language_info": {
   "codemirror_mode": {
    "name": "ipython",
    "version": 3
   },
   "file_extension": ".py",
   "mimetype": "text/x-python",
   "name": "python",
   "nbconvert_exporter": "python",
   "pygments_lexer": "ipython3",
   "version": "3.11.4"
  }
 },
 "nbformat": 4,
 "nbformat_minor": 2
}
