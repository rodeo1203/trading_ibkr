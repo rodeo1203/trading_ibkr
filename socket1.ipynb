{
 "cells": [
  {
   "cell_type": "code",
   "execution_count": 8,
   "metadata": {},
   "outputs": [
    {
     "data": {
      "text/plain": [
       "<IB connected to 127.0.0.1:7497 clientId=12>"
      ]
     },
     "execution_count": 8,
     "metadata": {},
     "output_type": "execute_result"
    }
   ],
   "source": [
    "from ib_insync import *\n",
    "util.startLoop()  # uncomment this line when in a notebook\n",
    "\n",
    "ib = IB()\n",
    "ib.connect('127.0.0.1', 7497, clientId=12)\n"
   ]
  },
  {
   "cell_type": "code",
   "execution_count": 9,
   "metadata": {},
   "outputs": [
    {
     "data": {
      "text/plain": [
       "Stock(conId=756733, symbol='SPY', exchange='SMART', primaryExchange='ARCA', currency='USD', localSymbol='SPY', tradingClass='SPY')"
      ]
     },
     "execution_count": 9,
     "metadata": {},
     "output_type": "execute_result"
    }
   ],
   "source": [
    "c=ib.qualifyContracts(Stock('SPY','SMART','USD'))[0]\n",
    "c"
   ]
  },
  {
   "cell_type": "code",
   "execution_count": 10,
   "metadata": {},
   "outputs": [
    {
     "name": "stdout",
     "output_type": "stream",
     "text": [
      "2024-02-01 13:20:50.859620+00:00 484.63\n",
      "2024-02-01 13:20:51.007054+00:00 484.63\n",
      "2024-02-01 13:20:51.504759+00:00 484.63\n",
      "2024-02-01 13:20:51.504881+00:00 484.63\n",
      "2024-02-01 13:20:51.504881+00:00 484.7\n",
      "2024-02-01 13:20:51.505885+00:00 484.7\n",
      "2024-02-01 13:20:51.754928+00:00 484.7\n",
      "2024-02-01 13:20:52.255496+00:00 484.7\n",
      "2024-02-01 13:20:52.507025+00:00 484.7\n",
      "2024-02-01 13:20:52.755835+00:00 484.7\n",
      "2024-02-01 13:20:53.005982+00:00 484.7\n",
      "2024-02-01 13:20:53.006973+00:00 484.7\n",
      "2024-02-01 13:20:53.006973+00:00 484.7\n",
      "2024-02-01 13:20:53.948050+00:00 484.7\n",
      "2024-02-01 13:20:53.948050+00:00 484.7\n",
      "2024-02-01 13:20:55.256152+00:00 484.7\n",
      "2024-02-01 13:20:55.509594+00:00 484.7\n",
      "2024-02-01 13:20:57.006757+00:00 484.7\n",
      "2024-02-01 13:20:57.778120+00:00 484.7\n",
      "2024-02-01 13:20:58.256425+00:00 484.7\n",
      "2024-02-01 13:20:59.506923+00:00 484.7\n",
      "2024-02-01 13:21:00.513775+00:00 484.7\n",
      "2024-02-01 13:21:00.756011+00:00 484.7\n"
     ]
    }
   ],
   "source": [
    "def pending_tick(t):\n",
    "    t=list(t)\n",
    "    print(t[0].time, t[0].last)\n",
    "    \n",
    "\n",
    "market_data=ib.reqMktData(c, \"\", False, False)\n",
    "ib.pendingTickersEvent += pending_tick\n",
    "ib.sleep(10)\n",
    "ib.pendingTickersEvent -= pending_tick"
   ]
  },
  {
   "cell_type": "code",
   "execution_count": 11,
   "metadata": {},
   "outputs": [
    {
     "name": "stdout",
     "output_type": "stream",
     "text": [
      "                       time  endTime      open_       high        low  \\\n",
      "0 2024-02-01 13:20:55+00:00       -1  42016.125  42016.125  42016.125   \n",
      "\n",
      "       close  volume  wap  count  \n",
      "0  42016.125    -1.0 -1.0     -1  \n",
      "                       time  endTime      open_       high        low  \\\n",
      "0 2024-02-01 13:20:55+00:00       -1  42016.125  42016.125  42016.125   \n",
      "1 2024-02-01 13:21:00+00:00       -1  42016.125  42016.125  42016.125   \n",
      "\n",
      "       close  volume  wap  count  \n",
      "0  42016.125    -1.0 -1.0     -1  \n",
      "1  42016.125    -1.0 -1.0     -1  \n",
      "                       time  endTime      open_       high        low  \\\n",
      "0 2024-02-01 13:20:55+00:00       -1  42016.125  42016.125  42016.125   \n",
      "1 2024-02-01 13:21:00+00:00       -1  42016.125  42016.125  42016.125   \n",
      "2 2024-02-01 13:21:05+00:00       -1  42016.125  42016.125  42016.125   \n",
      "\n",
      "       close  volume  wap  count  \n",
      "0  42016.125    -1.0 -1.0     -1  \n",
      "1  42016.125    -1.0 -1.0     -1  \n",
      "2  42016.125    -1.0 -1.0     -1  \n",
      "                       time  endTime      open_       high        low  \\\n",
      "0 2024-02-01 13:20:55+00:00       -1  42016.125  42016.125  42016.125   \n",
      "1 2024-02-01 13:21:00+00:00       -1  42016.125  42016.125  42016.125   \n",
      "2 2024-02-01 13:21:05+00:00       -1  42016.125  42016.125  42016.125   \n",
      "3 2024-02-01 13:21:10+00:00       -1  42016.125  42016.125  42016.125   \n",
      "\n",
      "       close  volume  wap  count  \n",
      "0  42016.125    -1.0 -1.0     -1  \n",
      "1  42016.125    -1.0 -1.0     -1  \n",
      "2  42016.125    -1.0 -1.0     -1  \n",
      "3  42016.125    -1.0 -1.0     -1  \n",
      "                       time  endTime      open_       high        low  \\\n",
      "0 2024-02-01 13:20:55+00:00       -1  42016.125  42016.125  42016.125   \n",
      "1 2024-02-01 13:21:00+00:00       -1  42016.125  42016.125  42016.125   \n",
      "2 2024-02-01 13:21:05+00:00       -1  42016.125  42016.125  42016.125   \n",
      "3 2024-02-01 13:21:10+00:00       -1  42016.125  42016.125  42016.125   \n",
      "4 2024-02-01 13:21:15+00:00       -1  42016.125  42016.125  42016.125   \n",
      "\n",
      "       close  volume  wap  count  \n",
      "0  42016.125    -1.0 -1.0     -1  \n",
      "1  42016.125    -1.0 -1.0     -1  \n",
      "2  42016.125    -1.0 -1.0     -1  \n",
      "3  42016.125    -1.0 -1.0     -1  \n",
      "4  42016.125    -1.0 -1.0     -1  \n",
      "                       time  endTime      open_       high        low  \\\n",
      "0 2024-02-01 13:20:55+00:00       -1  42016.125  42016.125  42016.125   \n",
      "1 2024-02-01 13:21:00+00:00       -1  42016.125  42016.125  42016.125   \n",
      "2 2024-02-01 13:21:05+00:00       -1  42016.125  42016.125  42016.125   \n",
      "3 2024-02-01 13:21:10+00:00       -1  42016.125  42016.125  42016.125   \n",
      "4 2024-02-01 13:21:15+00:00       -1  42016.125  42016.125  42016.125   \n",
      "5 2024-02-01 13:21:20+00:00       -1  42016.125  42016.125  42016.125   \n",
      "\n",
      "       close  volume  wap  count  \n",
      "0  42016.125    -1.0 -1.0     -1  \n",
      "1  42016.125    -1.0 -1.0     -1  \n",
      "2  42016.125    -1.0 -1.0     -1  \n",
      "3  42016.125    -1.0 -1.0     -1  \n",
      "4  42016.125    -1.0 -1.0     -1  \n",
      "5  42016.125    -1.0 -1.0     -1  \n",
      "                       time  endTime      open_       high        low  \\\n",
      "0 2024-02-01 13:20:55+00:00       -1  42016.125  42016.125  42016.125   \n",
      "1 2024-02-01 13:21:00+00:00       -1  42016.125  42016.125  42016.125   \n",
      "2 2024-02-01 13:21:05+00:00       -1  42016.125  42016.125  42016.125   \n",
      "3 2024-02-01 13:21:10+00:00       -1  42016.125  42016.125  42016.125   \n",
      "4 2024-02-01 13:21:15+00:00       -1  42016.125  42016.125  42016.125   \n",
      "5 2024-02-01 13:21:20+00:00       -1  42016.125  42016.125  42016.125   \n",
      "6 2024-02-01 13:21:25+00:00       -1  42016.125  42016.125  42016.125   \n",
      "\n",
      "       close  volume  wap  count  \n",
      "0  42016.125    -1.0 -1.0     -1  \n",
      "1  42016.125    -1.0 -1.0     -1  \n",
      "2  42016.125    -1.0 -1.0     -1  \n",
      "3  42016.125    -1.0 -1.0     -1  \n",
      "4  42016.125    -1.0 -1.0     -1  \n",
      "5  42016.125    -1.0 -1.0     -1  \n",
      "6  42016.125    -1.0 -1.0     -1  \n"
     ]
    }
   ],
   "source": [
    "cf=ib.qualifyContracts(Crypto('BTC','PAXOS'))[0]\n",
    "\n",
    "def onBarUpdate(bars, hasNewBar):\n",
    "    # print(bars)\n",
    "    df=util.df(bars)\n",
    "    print(df)\n",
    "\n",
    "bars = ib.reqRealTimeBars(cf, 5, 'MIDPOINT', False)\n",
    "bars.updateEvent += onBarUpdate\n",
    "ib.sleep(30)\n",
    "ib.cancelRealTimeBars(bars)\n"
   ]
  },
  {
   "cell_type": "code",
   "execution_count": 12,
   "metadata": {},
   "outputs": [
    {
     "data": {
      "text/plain": [
       "Ticker(contract=Crypto(conId=479624278, symbol='BTC', exchange='PAXOS', currency='USD', localSymbol='BTC.USD', tradingClass='BTC'), time=datetime.datetime(2024, 2, 1, 13, 21, 32, 629405, tzinfo=datetime.timezone.utc), minTick=0.25, bid=41975.25, bidSize=0.18270938, ask=41975.5, askSize=0.49531626, last=42016.25, lastSize=6.66e-06, volume=98.22585821, high=42670.75, low=41859.75, close=42527.75, halted=0.0)"
      ]
     },
     "execution_count": 12,
     "metadata": {},
     "output_type": "execute_result"
    }
   ],
   "source": [
    "\n",
    "ticker = ib.reqTickers(cf)\n",
    "ib.sleep(2)\n",
    "ticker[0]"
   ]
  },
  {
   "cell_type": "code",
   "execution_count": 13,
   "metadata": {},
   "outputs": [],
   "source": [
    "\t\n",
    "def orderupdate(o):\n",
    "    print(\"update order \\n\\n\")\n",
    "    print(o)\n",
    "    \n",
    "ib.newOrderEvent += orderupdate\n",
    "ib.sleep(10)\n",
    "ib.newOrderEvent -= orderupdate\n",
    "ib.disconnect()\n"
   ]
  }
 ],
 "metadata": {
  "kernelspec": {
   "display_name": "Python 3",
   "language": "python",
   "name": "python3"
  },
  "language_info": {
   "codemirror_mode": {
    "name": "ipython",
    "version": 3
   },
   "file_extension": ".py",
   "mimetype": "text/x-python",
   "name": "python",
   "nbconvert_exporter": "python",
   "pygments_lexer": "ipython3",
   "version": "3.11.4"
  }
 },
 "nbformat": 4,
 "nbformat_minor": 2
}
