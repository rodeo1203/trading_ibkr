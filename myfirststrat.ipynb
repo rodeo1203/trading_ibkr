{
 "cells": [
  {
   "cell_type": "code",
   "execution_count": null,
   "metadata": {},
   "outputs": [],
   "source": [
    "import datetime\n",
    "import time\n",
    "from ib_insync import *\n",
    "import pandas_ta as ta\n",
    "import pandas as pd\n",
    "\n",
    "util.startLoop()\n",
    "ib = IB()\n",
    "\n",
    "ib.connect('127.0.0.1', 7497, clientId=207)"
   ]
  },
  {
   "cell_type": "code",
   "execution_count": null,
   "metadata": {},
   "outputs": [],
   "source": [
    "ib.reqcontractdetails"
   ]
  }
 ],
 "metadata": {
  "language_info": {
   "name": "python"
  }
 },
 "nbformat": 4,
 "nbformat_minor": 2
}
