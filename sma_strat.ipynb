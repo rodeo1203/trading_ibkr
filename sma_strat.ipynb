{
 "cells": [
  {
   "cell_type": "code",
   "execution_count": 1,
   "metadata": {},
   "outputs": [
    {
     "name": "stdout",
     "output_type": "stream",
     "text": [
      "Stock(symbol='SBIN', exchange='NSE', currency='INR')\n",
      "Stock(symbol='KOTAKBANK', exchange='NSE', currency='INR')\n",
      "{'SBIN': Stock(conId=173418084, symbol='SBIN', exchange='NSE', primaryExchange='NSE', currency='INR', localSymbol='SBIN', tradingClass='SBIN'), 'KOTAKBANK': Stock(conId=78743661, symbol='KOTAKBANK', exchange='NSE', primaryExchange='NSE', currency='INR', localSymbol='KOTAKBANK', tradingClass='KOTAKBANK')}\n"
     ]
    }
   ],
   "source": [
    "import datetime\n",
    "import time\n",
    "from ib_insync import *\n",
    "import pandas_ta as ta\n",
    "import pandas as pd\n",
    "util.startLoop()\n",
    "ib = IB()\n",
    "\n",
    "ib.connect('127.0.0.1', 7497, clientId=207)\n",
    "\n",
    "tickers=['SBIN','KOTAKBANK']\n",
    "contract_objects={}\n",
    "for tick in tickers:\n",
    "    print(Stock(tick,'NSE','INR'))\n",
    "    contract_objects[tick]=ib.qualifyContracts(Stock(tick,'NSE','INR'))[0]\n",
    "print(contract_objects)"
   ]
  },
  {
   "cell_type": "code",
   "execution_count": 6,
   "metadata": {},
   "outputs": [],
   "source": [
    "def stockprice(temp):\n",
    "    a=ib.reqMktData(temp)\n",
    "    util.sleep(1)\n",
    "    price=a.last\n",
    "    ib.cancelMktData(temp)\n",
    "    return price"
   ]
  },
  {
   "cell_type": "code",
   "execution_count": 9,
   "metadata": {},
   "outputs": [
    {
     "data": {
      "text/plain": [
       "42353.5"
      ]
     },
     "execution_count": 9,
     "metadata": {},
     "output_type": "execute_result"
    }
   ],
   "source": [
    "stockprice(Crypto('BTC', 'PAXOS', 'USD'))"
   ]
  },
  {
   "cell_type": "markdown",
   "metadata": {},
   "source": [
    "# Get historical data for ticker along with SMA"
   ]
  },
  {
   "cell_type": "code",
   "execution_count": 11,
   "metadata": {},
   "outputs": [],
   "source": [
    "def get_historical_data(ticker):\n",
    "    ticker_contract = contract_objects[ticker]\n",
    "    bars = ib.reqHistoricalData(\n",
    "    ticker_contract, endDateTime='', durationStr='10 D',\n",
    "    barSizeSetting='1 min', whatToShow='TRADES', useRTH=True)\n",
    "    # convert to pandas dataframe:\n",
    "    df = util.df(bars)\n",
    "    print(df)\n",
    "    df['sma1']=ta.sma(df.close,20)\n",
    "    df['sma2']=ta.sma(df.close,50)\n",
    "    return df"
   ]
  },
  {
   "cell_type": "code",
   "execution_count": 12,
   "metadata": {},
   "outputs": [
    {
     "name": "stdout",
     "output_type": "stream",
     "text": [
      "                          date    open    high     low   close  volume  \\\n",
      "0    2024-01-19 09:15:00+05:30  632.85  633.25  632.55  632.55  1097.0   \n",
      "1    2024-01-19 09:16:00+05:30  633.00  633.00  631.95  632.35  3875.0   \n",
      "2    2024-01-19 09:17:00+05:30  632.40  632.95  632.15  632.90  3013.0   \n",
      "3    2024-01-19 09:18:00+05:30  633.15  633.20  631.35  631.85  2849.0   \n",
      "4    2024-01-19 09:19:00+05:30  631.85  632.30  631.55  631.80  2856.0   \n",
      "...                        ...     ...     ...     ...     ...     ...   \n",
      "3745 2024-02-05 15:25:00+05:30  642.70  642.70  642.25  642.40  9405.0   \n",
      "3746 2024-02-05 15:26:00+05:30  642.30  642.50  642.20  642.30  5391.0   \n",
      "3747 2024-02-05 15:27:00+05:30  642.25  642.65  642.25  642.40  2618.0   \n",
      "3748 2024-02-05 15:28:00+05:30  642.45  642.80  642.35  642.55  2327.0   \n",
      "3749 2024-02-05 15:29:00+05:30  642.55  643.45  642.40  642.50  2446.0   \n",
      "\n",
      "      average  barCount  \n",
      "0     632.635         9  \n",
      "1     632.230        56  \n",
      "2     632.435        53  \n",
      "3     632.680        60  \n",
      "4     631.885        58  \n",
      "...       ...       ...  \n",
      "3745  642.365        59  \n",
      "3746  642.355        55  \n",
      "3747  642.425        57  \n",
      "3748  642.445        55  \n",
      "3749  642.730        58  \n",
      "\n",
      "[3750 rows x 8 columns]\n"
     ]
    },
    {
     "data": {
      "text/html": [
       "<div>\n",
       "<style scoped>\n",
       "    .dataframe tbody tr th:only-of-type {\n",
       "        vertical-align: middle;\n",
       "    }\n",
       "\n",
       "    .dataframe tbody tr th {\n",
       "        vertical-align: top;\n",
       "    }\n",
       "\n",
       "    .dataframe thead th {\n",
       "        text-align: right;\n",
       "    }\n",
       "</style>\n",
       "<table border=\"1\" class=\"dataframe\">\n",
       "  <thead>\n",
       "    <tr style=\"text-align: right;\">\n",
       "      <th></th>\n",
       "      <th>date</th>\n",
       "      <th>open</th>\n",
       "      <th>high</th>\n",
       "      <th>low</th>\n",
       "      <th>close</th>\n",
       "      <th>volume</th>\n",
       "      <th>average</th>\n",
       "      <th>barCount</th>\n",
       "      <th>sma1</th>\n",
       "      <th>sma2</th>\n",
       "    </tr>\n",
       "  </thead>\n",
       "  <tbody>\n",
       "    <tr>\n",
       "      <th>0</th>\n",
       "      <td>2024-01-19 09:15:00+05:30</td>\n",
       "      <td>632.85</td>\n",
       "      <td>633.25</td>\n",
       "      <td>632.55</td>\n",
       "      <td>632.55</td>\n",
       "      <td>1097.0</td>\n",
       "      <td>632.635</td>\n",
       "      <td>9</td>\n",
       "      <td>NaN</td>\n",
       "      <td>NaN</td>\n",
       "    </tr>\n",
       "    <tr>\n",
       "      <th>1</th>\n",
       "      <td>2024-01-19 09:16:00+05:30</td>\n",
       "      <td>633.00</td>\n",
       "      <td>633.00</td>\n",
       "      <td>631.95</td>\n",
       "      <td>632.35</td>\n",
       "      <td>3875.0</td>\n",
       "      <td>632.230</td>\n",
       "      <td>56</td>\n",
       "      <td>NaN</td>\n",
       "      <td>NaN</td>\n",
       "    </tr>\n",
       "    <tr>\n",
       "      <th>2</th>\n",
       "      <td>2024-01-19 09:17:00+05:30</td>\n",
       "      <td>632.40</td>\n",
       "      <td>632.95</td>\n",
       "      <td>632.15</td>\n",
       "      <td>632.90</td>\n",
       "      <td>3013.0</td>\n",
       "      <td>632.435</td>\n",
       "      <td>53</td>\n",
       "      <td>NaN</td>\n",
       "      <td>NaN</td>\n",
       "    </tr>\n",
       "    <tr>\n",
       "      <th>3</th>\n",
       "      <td>2024-01-19 09:18:00+05:30</td>\n",
       "      <td>633.15</td>\n",
       "      <td>633.20</td>\n",
       "      <td>631.35</td>\n",
       "      <td>631.85</td>\n",
       "      <td>2849.0</td>\n",
       "      <td>632.680</td>\n",
       "      <td>60</td>\n",
       "      <td>NaN</td>\n",
       "      <td>NaN</td>\n",
       "    </tr>\n",
       "    <tr>\n",
       "      <th>4</th>\n",
       "      <td>2024-01-19 09:19:00+05:30</td>\n",
       "      <td>631.85</td>\n",
       "      <td>632.30</td>\n",
       "      <td>631.55</td>\n",
       "      <td>631.80</td>\n",
       "      <td>2856.0</td>\n",
       "      <td>631.885</td>\n",
       "      <td>58</td>\n",
       "      <td>NaN</td>\n",
       "      <td>NaN</td>\n",
       "    </tr>\n",
       "    <tr>\n",
       "      <th>...</th>\n",
       "      <td>...</td>\n",
       "      <td>...</td>\n",
       "      <td>...</td>\n",
       "      <td>...</td>\n",
       "      <td>...</td>\n",
       "      <td>...</td>\n",
       "      <td>...</td>\n",
       "      <td>...</td>\n",
       "      <td>...</td>\n",
       "      <td>...</td>\n",
       "    </tr>\n",
       "    <tr>\n",
       "      <th>3745</th>\n",
       "      <td>2024-02-05 15:25:00+05:30</td>\n",
       "      <td>642.70</td>\n",
       "      <td>642.70</td>\n",
       "      <td>642.25</td>\n",
       "      <td>642.40</td>\n",
       "      <td>9405.0</td>\n",
       "      <td>642.365</td>\n",
       "      <td>59</td>\n",
       "      <td>643.1400</td>\n",
       "      <td>642.978</td>\n",
       "    </tr>\n",
       "    <tr>\n",
       "      <th>3746</th>\n",
       "      <td>2024-02-05 15:26:00+05:30</td>\n",
       "      <td>642.30</td>\n",
       "      <td>642.50</td>\n",
       "      <td>642.20</td>\n",
       "      <td>642.30</td>\n",
       "      <td>5391.0</td>\n",
       "      <td>642.355</td>\n",
       "      <td>55</td>\n",
       "      <td>643.0775</td>\n",
       "      <td>642.938</td>\n",
       "    </tr>\n",
       "    <tr>\n",
       "      <th>3747</th>\n",
       "      <td>2024-02-05 15:27:00+05:30</td>\n",
       "      <td>642.25</td>\n",
       "      <td>642.65</td>\n",
       "      <td>642.25</td>\n",
       "      <td>642.40</td>\n",
       "      <td>2618.0</td>\n",
       "      <td>642.425</td>\n",
       "      <td>57</td>\n",
       "      <td>643.0000</td>\n",
       "      <td>642.899</td>\n",
       "    </tr>\n",
       "    <tr>\n",
       "      <th>3748</th>\n",
       "      <td>2024-02-05 15:28:00+05:30</td>\n",
       "      <td>642.45</td>\n",
       "      <td>642.80</td>\n",
       "      <td>642.35</td>\n",
       "      <td>642.55</td>\n",
       "      <td>2327.0</td>\n",
       "      <td>642.445</td>\n",
       "      <td>55</td>\n",
       "      <td>642.9175</td>\n",
       "      <td>642.880</td>\n",
       "    </tr>\n",
       "    <tr>\n",
       "      <th>3749</th>\n",
       "      <td>2024-02-05 15:29:00+05:30</td>\n",
       "      <td>642.55</td>\n",
       "      <td>643.45</td>\n",
       "      <td>642.40</td>\n",
       "      <td>642.50</td>\n",
       "      <td>2446.0</td>\n",
       "      <td>642.730</td>\n",
       "      <td>58</td>\n",
       "      <td>642.8175</td>\n",
       "      <td>642.859</td>\n",
       "    </tr>\n",
       "  </tbody>\n",
       "</table>\n",
       "<p>3750 rows × 10 columns</p>\n",
       "</div>"
      ],
      "text/plain": [
       "                          date    open    high     low   close  volume  \\\n",
       "0    2024-01-19 09:15:00+05:30  632.85  633.25  632.55  632.55  1097.0   \n",
       "1    2024-01-19 09:16:00+05:30  633.00  633.00  631.95  632.35  3875.0   \n",
       "2    2024-01-19 09:17:00+05:30  632.40  632.95  632.15  632.90  3013.0   \n",
       "3    2024-01-19 09:18:00+05:30  633.15  633.20  631.35  631.85  2849.0   \n",
       "4    2024-01-19 09:19:00+05:30  631.85  632.30  631.55  631.80  2856.0   \n",
       "...                        ...     ...     ...     ...     ...     ...   \n",
       "3745 2024-02-05 15:25:00+05:30  642.70  642.70  642.25  642.40  9405.0   \n",
       "3746 2024-02-05 15:26:00+05:30  642.30  642.50  642.20  642.30  5391.0   \n",
       "3747 2024-02-05 15:27:00+05:30  642.25  642.65  642.25  642.40  2618.0   \n",
       "3748 2024-02-05 15:28:00+05:30  642.45  642.80  642.35  642.55  2327.0   \n",
       "3749 2024-02-05 15:29:00+05:30  642.55  643.45  642.40  642.50  2446.0   \n",
       "\n",
       "      average  barCount      sma1     sma2  \n",
       "0     632.635         9       NaN      NaN  \n",
       "1     632.230        56       NaN      NaN  \n",
       "2     632.435        53       NaN      NaN  \n",
       "3     632.680        60       NaN      NaN  \n",
       "4     631.885        58       NaN      NaN  \n",
       "...       ...       ...       ...      ...  \n",
       "3745  642.365        59  643.1400  642.978  \n",
       "3746  642.355        55  643.0775  642.938  \n",
       "3747  642.425        57  643.0000  642.899  \n",
       "3748  642.445        55  642.9175  642.880  \n",
       "3749  642.730        58  642.8175  642.859  \n",
       "\n",
       "[3750 rows x 10 columns]"
      ]
     },
     "execution_count": 12,
     "metadata": {},
     "output_type": "execute_result"
    }
   ],
   "source": [
    "get_historical_data('SBIN')"
   ]
  },
  {
   "cell_type": "markdown",
   "metadata": {},
   "source": [
    "# PLACE MARKET BUY AND STOP(SELL) ORDER FOR TICKER"
   ]
  },
  {
   "cell_type": "code",
   "execution_count": 54,
   "metadata": {},
   "outputs": [],
   "source": [
    "def trade_buy_stocks(ticker,closing_price=0,quantitys=1):\n",
    "    #market order\n",
    "    contract = contract_objects[ticker]\n",
    "    ord=MarketOrder(action='BUY',totalQuantity=quantitys)\n",
    "    trade=ib.placeOrder(contract,ord)\n",
    "    ib.sleep(1)\n",
    "    print(trade)\n",
    "\n",
    "    #stop loss order\n",
    "    # limit stop\n",
    "    ord=StopOrder(action='SELL',totalQuantity=quantitys,stopPrice=int(0.98*closing_price))\n",
    "    trade=ib.placeOrder(contract,ord)\n",
    "    ib.sleep(1)\n",
    "    print(trade)\n",
    "\n",
    "    # trailing stop\n",
    "    # order = Order()\n",
    "    # order.orderId = ib.client.getReqId()\n",
    "    # order.action = 'SELL'\n",
    "    # order.orderType = \"TRAIL\"\n",
    "    # order.totalQuantity = 1\n",
    "    # order.trailingPercent = 2\n",
    "    # order.trailStopPrice = int(stock_price*0.98)\n",
    "    # trade=ib.placeOrder(contract, order)\n",
    "    # ib.sleep(1)"
   ]
  },
  {
   "cell_type": "code",
   "execution_count": 58,
   "metadata": {},
   "outputs": [
    {
     "name": "stdout",
     "output_type": "stream",
     "text": [
      "Trade(contract=Stock(conId=173418084, symbol='SBIN', exchange='NSE', primaryExchange='NSE', currency='INR', localSymbol='SBIN', tradingClass='SBIN'), order=MarketOrder(orderId=36, clientId=207, permId=90090868, action='BUY', totalQuantity=1.0, lmtPrice=0.0, auxPrice=0.0), orderStatus=OrderStatus(orderId=36, status='PreSubmitted', filled=0.0, remaining=1.0, avgFillPrice=0.0, permId=90090868, parentId=0, lastFillPrice=0.0, clientId=207, whyHeld='', mktCapPrice=0.0), fills=[], log=[TradeLogEntry(time=datetime.datetime(2024, 2, 5, 21, 41, 45, 679550, tzinfo=datetime.timezone.utc), status='PendingSubmit', message='', errorCode=0), TradeLogEntry(time=datetime.datetime(2024, 2, 5, 21, 41, 46, 37277, tzinfo=datetime.timezone.utc), status='PreSubmitted', message='', errorCode=0)], advancedError='')\n",
      "Trade(contract=Stock(conId=173418084, symbol='SBIN', exchange='NSE', primaryExchange='NSE', currency='INR', localSymbol='SBIN', tradingClass='SBIN'), order=StopOrder(orderId=37, clientId=207, permId=90090869, action='SELL', totalQuantity=1.0, lmtPrice=0.0, auxPrice=629.0), orderStatus=OrderStatus(orderId=37, status='PreSubmitted', filled=0.0, remaining=1.0, avgFillPrice=0.0, permId=90090869, parentId=0, lastFillPrice=0.0, clientId=207, whyHeld='trigger', mktCapPrice=0.0), fills=[], log=[TradeLogEntry(time=datetime.datetime(2024, 2, 5, 21, 41, 46, 685066, tzinfo=datetime.timezone.utc), status='PendingSubmit', message='', errorCode=0), TradeLogEntry(time=datetime.datetime(2024, 2, 5, 21, 41, 47, 35727, tzinfo=datetime.timezone.utc), status='PreSubmitted', message='', errorCode=0)], advancedError='')\n"
     ]
    }
   ],
   "source": [
    "trade_buy_stocks('SBIN',642)"
   ]
  },
  {
   "cell_type": "markdown",
   "metadata": {},
   "source": [
    "# Place sell order and stop order"
   ]
  },
  {
   "cell_type": "code",
   "execution_count": 51,
   "metadata": {},
   "outputs": [],
   "source": [
    "def trade_sell_stocks(ticker,stock_price,quantities=1):\n",
    "    #market order\n",
    "    contract = contract_objects[ticker]\n",
    "    ord=MarketOrder(action='SELL',totalQuantity=quantities)\n",
    "    trade=ib.placeOrder(contract,ord)\n",
    "    ib.sleep(1)\n",
    "    print(trade)\n",
    "\n",
    "    # trailing stop loss order\n",
    "\n",
    "    ord=StopOrder(action='BUY',totalQuantity=quantities,stopPrice=int(1.02*stock_price))\n",
    "    trade=ib.placeOrder(contract,ord)\n",
    "    ib.sleep(1)\n",
    "    print(trade)\n",
    "\n",
    "    # order = Order()\n",
    "    # order.orderId = ib.client.getReqId()\n",
    "    # order.action = 'BUY'\n",
    "    # order.orderType = \"TRAIL\"\n",
    "    # order.totalQuantity = 1\n",
    "    # order.trailingPercent = 2\n",
    "    # order.trailStopPrice = int(stock_price*1.02)\n",
    "    # trade=ib.placeOrder(contract, order)\n",
    "    # ib.sleep(1)\n"
   ]
  },
  {
   "cell_type": "code",
   "execution_count": 52,
   "metadata": {},
   "outputs": [
    {
     "name": "stdout",
     "output_type": "stream",
     "text": [
      "Trade(contract=Stock(conId=78743661, symbol='KOTAKBANK', exchange='NSE', primaryExchange='NSE', currency='INR', localSymbol='KOTAKBANK', tradingClass='KOTAKBANK'), order=MarketOrder(orderId=32, clientId=207, permId=90090864, action='SELL', totalQuantity=1.0, lmtPrice=0.0, auxPrice=0.0), orderStatus=OrderStatus(orderId=32, status='PreSubmitted', filled=0.0, remaining=1.0, avgFillPrice=0.0, permId=90090864, parentId=0, lastFillPrice=0.0, clientId=207, whyHeld='', mktCapPrice=0.0), fills=[], log=[TradeLogEntry(time=datetime.datetime(2024, 2, 5, 21, 40, 3, 811195, tzinfo=datetime.timezone.utc), status='PendingSubmit', message='', errorCode=0), TradeLogEntry(time=datetime.datetime(2024, 2, 5, 21, 40, 4, 171841, tzinfo=datetime.timezone.utc), status='PreSubmitted', message='', errorCode=0)], advancedError='')\n",
      "Trade(contract=Stock(conId=78743661, symbol='KOTAKBANK', exchange='NSE', primaryExchange='NSE', currency='INR', localSymbol='KOTAKBANK', tradingClass='KOTAKBANK'), order=StopOrder(orderId=33, clientId=207, permId=90090865, action='BUY', totalQuantity=1.0, lmtPrice=0.0, auxPrice=1836.0), orderStatus=OrderStatus(orderId=33, status='PreSubmitted', filled=0.0, remaining=1.0, avgFillPrice=0.0, permId=90090865, parentId=0, lastFillPrice=0.0, clientId=207, whyHeld='trigger', mktCapPrice=0.0), fills=[], log=[TradeLogEntry(time=datetime.datetime(2024, 2, 5, 21, 40, 4, 817844, tzinfo=datetime.timezone.utc), status='PendingSubmit', message='', errorCode=0), TradeLogEntry(time=datetime.datetime(2024, 2, 5, 21, 40, 5, 176093, tzinfo=datetime.timezone.utc), status='PreSubmitted', message='', errorCode=0)], advancedError='')\n"
     ]
    }
   ],
   "source": [
    "trade_sell_stocks('KOTAKBANK',1800)"
   ]
  },
  {
   "cell_type": "code",
   "execution_count": 75,
   "metadata": {},
   "outputs": [
    {
     "name": "stdout",
     "output_type": "stream",
     "text": [
      "Stock(conId=756733, symbol='SPY', exchange='SMART', primaryExchange='ARCA', currency='USD', localSymbol='SPY', tradingClass='SPY')\n",
      "Trade(contract=Stock(conId=756733, symbol='SPY', exchange='SMART', primaryExchange='ARCA', currency='USD', localSymbol='SPY', tradingClass='SPY'), order=MarketOrder(orderId=54, clientId=207, permId=90090885, action='BUY', totalQuantity=1.0, lmtPrice=0.0, auxPrice=0.0), orderStatus=OrderStatus(orderId=54, status='PreSubmitted', filled=0.0, remaining=1.0, avgFillPrice=0.0, permId=90090885, parentId=0, lastFillPrice=0.0, clientId=207, whyHeld='', mktCapPrice=0.0), fills=[], log=[TradeLogEntry(time=datetime.datetime(2024, 2, 5, 21, 53, 18, 479140, tzinfo=datetime.timezone.utc), status='PendingSubmit', message='', errorCode=0), TradeLogEntry(time=datetime.datetime(2024, 2, 5, 21, 53, 19, 159315, tzinfo=datetime.timezone.utc), status='PreSubmitted', message='', errorCode=0)], advancedError='')\n"
     ]
    }
   ],
   "source": [
    "contract =ib.qualifyContracts(Stock('SPY','SMART','USD'))[0]\n",
    "print(contract)\n",
    "ord=MarketOrder(action='BUY',totalQuantity=1)\n",
    "trade=ib.placeOrder(contract,ord)\n",
    "ib.sleep(1)\n",
    "print(trade)"
   ]
  },
  {
   "cell_type": "markdown",
   "metadata": {},
   "source": [
    "# Close all open orders for a ticker"
   ]
  },
  {
   "cell_type": "code",
   "execution_count": 34,
   "metadata": {},
   "outputs": [],
   "source": [
    "def close_ticker_open_orders(ticker):\n",
    "    ord=ib.reqAllOpenOrders()\n",
    "    df1=util.df(ord)\n",
    "    df1['ticker_name']=[cont.symbol for cont in df1['contract']]\n",
    "    for i in range(len(df1)):\n",
    "        order_object=df1[df1['ticker_name']==ticker].order.iloc[i]\n",
    "        print(order_object)\n",
    "        ib.cancelOrder(order_object)"
   ]
  },
  {
   "cell_type": "code",
   "execution_count": 59,
   "metadata": {},
   "outputs": [
    {
     "name": "stdout",
     "output_type": "stream",
     "text": [
      "MarketOrder(orderId=36, clientId=207, permId=90090868, action='BUY', totalQuantity=1.0, lmtPrice=0.0, auxPrice=0.0)\n",
      "StopOrder(orderId=37, clientId=207, permId=90090869, action='SELL', totalQuantity=1.0, lmtPrice=0.0, auxPrice=629.0)\n"
     ]
    }
   ],
   "source": [
    "close_ticker_open_orders('SBIN')"
   ]
  },
  {
   "cell_type": "code",
   "execution_count": 53,
   "metadata": {},
   "outputs": [
    {
     "name": "stdout",
     "output_type": "stream",
     "text": [
      "MarketOrder(orderId=32, clientId=207, permId=90090864, action='SELL', totalQuantity=1.0, lmtPrice=0.0, auxPrice=0.0)\n",
      "StopOrder(orderId=33, clientId=207, permId=90090865, action='BUY', totalQuantity=1.0, lmtPrice=0.0, auxPrice=1836.0)\n"
     ]
    }
   ],
   "source": [
    "close_ticker_open_orders('KOTAKBANK')"
   ]
  },
  {
   "cell_type": "markdown",
   "metadata": {},
   "source": [
    "# Close all open positions for a ticker"
   ]
  },
  {
   "cell_type": "code",
   "execution_count": 3,
   "metadata": {},
   "outputs": [
    {
     "data": {
      "text/html": [
       "<div>\n",
       "<style scoped>\n",
       "    .dataframe tbody tr th:only-of-type {\n",
       "        vertical-align: middle;\n",
       "    }\n",
       "\n",
       "    .dataframe tbody tr th {\n",
       "        vertical-align: top;\n",
       "    }\n",
       "\n",
       "    .dataframe thead th {\n",
       "        text-align: right;\n",
       "    }\n",
       "</style>\n",
       "<table border=\"1\" class=\"dataframe\">\n",
       "  <thead>\n",
       "    <tr style=\"text-align: right;\">\n",
       "      <th></th>\n",
       "      <th>account</th>\n",
       "      <th>contract</th>\n",
       "      <th>position</th>\n",
       "      <th>avgCost</th>\n",
       "    </tr>\n",
       "  </thead>\n",
       "  <tbody>\n",
       "    <tr>\n",
       "      <th>0</th>\n",
       "      <td>DU8498783</td>\n",
       "      <td>Crypto(conId=479624278, symbol='BTC', currency...</td>\n",
       "      <td>0.023613</td>\n",
       "      <td>42426.278787</td>\n",
       "    </tr>\n",
       "  </tbody>\n",
       "</table>\n",
       "</div>"
      ],
      "text/plain": [
       "     account                                           contract  position  \\\n",
       "0  DU8498783  Crypto(conId=479624278, symbol='BTC', currency...  0.023613   \n",
       "\n",
       "        avgCost  \n",
       "0  42426.278787  "
      ]
     },
     "execution_count": 3,
     "metadata": {},
     "output_type": "execute_result"
    }
   ],
   "source": [
    "df2=util.df(ib.reqPositions())\n",
    "df2"
   ]
  },
  {
   "cell_type": "code",
   "execution_count": 4,
   "metadata": {},
   "outputs": [],
   "source": [
    "def close_ticker_position(name):\n",
    "\n",
    "    df2=util.df(ib.reqPositions())\n",
    "    df2['ticker_name']=[cont.symbol for cont in df2['contract']]\n",
    "    cont=df2[df2['ticker_name']==name].contract.iloc[0]\n",
    "    quant=df2[df2['ticker_name']==name].position.iloc[0]\n",
    "    quant\n",
    "    if quant>0:\n",
    "        #sell\n",
    "        ord=MarketOrder(action='SELL',totalQuantity=quant)\n",
    "        ib.placeOrder(cont,ord)\n",
    "    elif quant<0:\n",
    "        ord=MarketOrder(action='BUY',totalQuantity=abs(quant))\n",
    "        ib.placeOrder(cont,ord)\n"
   ]
  },
  {
   "cell_type": "code",
   "execution_count": null,
   "metadata": {},
   "outputs": [
    {
     "name": "stderr",
     "output_type": "stream",
     "text": [
      "Error 321, reqId 60: Error validating request.-'bN' : cause - Missing order exchange.\n",
      "Canceled order: Trade(contract=Crypto(conId=479624278, symbol='BTC', currency='USD', localSymbol='BTC.USD', tradingClass='BTC'), order=MarketOrder(orderId=60, clientId=207, action='SELL', totalQuantity=0.02361261), orderStatus=OrderStatus(orderId=60, status='Cancelled', filled=0.0, remaining=0.0, avgFillPrice=0.0, permId=0, parentId=0, lastFillPrice=0.0, clientId=0, whyHeld='', mktCapPrice=0.0), fills=[], log=[TradeLogEntry(time=datetime.datetime(2024, 2, 5, 21, 59, 40, 386872, tzinfo=datetime.timezone.utc), status='PendingSubmit', message='', errorCode=0), TradeLogEntry(time=datetime.datetime(2024, 2, 5, 21, 59, 40, 389582, tzinfo=datetime.timezone.utc), status='Cancelled', message=\"Error 321, reqId 60: Error validating request.-'bN' : cause - Missing order exchange.\", errorCode=321)], advancedError='')\n"
     ]
    }
   ],
   "source": [
    "close_ticker_position('BTC')"
   ]
  },
  {
   "cell_type": "markdown",
   "metadata": {},
   "source": [
    "# Define the SMA cross over strategy condition"
   ]
  },
  {
   "cell_type": "code",
   "execution_count": 50,
   "metadata": {},
   "outputs": [],
   "source": [
    "def strategy(data,ticker):\n",
    "    print('inside strategy')\n",
    "    print(ticker)\n",
    "    print(data)\n",
    "    \n",
    "    buy_condition=data['sma1'].iloc[-1]>data['sma2'].iloc[-1] and data['sma1'].iloc[-2]<data['sma2'].iloc[-2]\n",
    "    sell_condition=data['sma1'].iloc[-1]<data['sma2'].iloc[-1] and data['sma1'].iloc[-2]>data['sma2'].iloc[-2]\n",
    "    current_balance=int(float([v for v in ib.accountValues() if v.tag == 'AvailableFunds' ][0].value))\n",
    "    if current_balance>data.close.iloc[-1]:\n",
    "        if buy_condition:\n",
    "            print('buy condiiton satisfied')\n",
    "            close_ticker_postion(ticker)\n",
    "            close_ticker_open_orders(ticker)\n",
    "            trade_buy_stocks(ticker,data.close.iloc[-1])\n",
    "        elif sell_condition:\n",
    "            print('sell condition satisfied')\n",
    "            close_ticker_postion(ticker)\n",
    "            close_ticker_open_orders(ticker)\n",
    "            trade_sell_stocks(ticker,data.close.iloc[-1])\n",
    "        else :\n",
    "            print('no condition satisfied')\n",
    "    else:\n",
    "        print('we dont have enough money')\n",
    "        print('current balance is',current_balance,'stock price is ',data.close[-1])\n"
   ]
  },
  {
   "cell_type": "markdown",
   "metadata": {},
   "source": [
    "# Main function calls the above and executes the strategy"
   ]
  },
  {
   "cell_type": "code",
   "execution_count": null,
   "metadata": {},
   "outputs": [],
   "source": [
    "def main():\n",
    "    ord_df=util.df(ib.reqOpenOrders())\n",
    "    pos_df=util.df(ib.reqPositions())\n",
    "    if pos_df is not None:\n",
    "        pos_df['name']=[i.symbol for i in pos_df.contract ]\n",
    "    else:\n",
    "            pos_df=pd.DataFrame()\n",
    "            pos_df['name']=0    \n",
    "\n",
    "    print(pos_df)\n",
    "    open_order_df=util.df(ib.openTrades())\n",
    "    print(open_order_df)\n",
    "\n",
    "    for ticker in tickers:\n",
    "        print('ticker name is',ticker,'################')\n",
    "        ticker_contract=ticker_contracts[ticker]\n",
    "        ticker_contract=ib.qualifyContracts(ticker_contract)[0]\n",
    "        hist_df=get_historical_data(ticker_contract)\n",
    "        print(hist_df)\n",
    "        print(hist_df.close.iloc[-1])\n",
    "        capital=int(float([v for v in ib.accountValues() if v.tag == 'AvailableFunds' ][0].value))\n",
    "        print(capital)\n",
    "        quantity=int(capital/hist_df.close.iloc[-1])\n",
    "        \n",
    "        print(quantity)\n",
    "        if quantity==0:\n",
    "            print('we dont have enough money so we cannot trade')\n",
    "            continue\n",
    "\n",
    "        if pos_df.empty:\n",
    "            print('we dont have any position')\n",
    "            strategy(hist_df,ticker)\n",
    "\n",
    "\n",
    "        elif len(pos_df)!=0 and ticker not in pos_df['name'].tolist():\n",
    "            print('we have some position but current ticker is not in position')\n",
    "            strategy(hist_df,ticker)\n",
    "        elif len(pos_df)!=0 and ticker in pos_df[\"name\"].tolist():\n",
    "            print('we have some position and current ticker is in position')\n",
    "            print(open_order_df)\n",
    "            if pos_df[pos_df[\"name\"]==ticker][\"position\"].values[0] == 0:\n",
    "                print('we have current ticker in position but quantity is 0')\n",
    "                strategy(hist_df,ticker)\n",
    "\n",
    "            elif pos_df[pos_df[\"name\"]==ticker][\"position\"].values[0] > 0  :\n",
    "                print('we have current ticker in position and is long')\n",
    "                strategy(hist_df,ticker)\n",
    "            #     sell_condition=hist_df['sma1'].iloc[-1]<hist_df['sma2'].iloc[-1] and hist_df['sma1'].iloc[-2]>hist_df['sma2'].iloc[-2]\n",
    "            #     current_balance=int(float([v for v in ib.accountValues() if v.tag == 'AvailableFunds' ][0].value))\n",
    "            #     if current_balance>hist_df.close.iloc[-1]:\n",
    "            #         if sell_condition:\n",
    "            #             print('sell condition satisfied')\n",
    "            #             close_ticker_postion(ticker)\n",
    "            #             close_ticker_open_orders(ticker)\n",
    "            #             trade_sell_stocks(ticker,hist_df.close.iloc[-1])\n",
    "          \n",
    "\n",
    "\n",
    "            # elif pos_df[pos_df[\"name\"]==ticker][\"position\"].values[0] < 0 :\n",
    "            #     print('we have current ticker in position and is short')\n",
    "            #     buy_condition=hist_df['sma1'].iloc[-1]>hist_df['sma2'].iloc[-1] and hist_df['sma1'].iloc[-2]<hist_df['sma2'].iloc[-2]\n",
    "            #     current_balance=int(float([v for v in ib.accountValues() if v.tag == 'AvailableFunds' ][0].value))\n",
    "            #     if current_balance>hist_df.close.iloc[-1]:\n",
    "            #         if buy_condition:\n",
    "            #             print('buy condiiton satisfied')\n",
    "            #             close_ticker_postion(ticker)\n",
    "            #             close_ticker_open_orders(ticker)\n",
    "            #             trade_buy_stocks(ticker,hist_df.close.iloc[-1])\n"
   ]
  },
  {
   "cell_type": "markdown",
   "metadata": {},
   "source": [
    "# If we want to run the strategy every 1 min, we run the code below:"
   ]
  },
  {
   "cell_type": "code",
   "execution_count": null,
   "metadata": {},
   "outputs": [],
   "source": [
    "# current_time=datetime.datetime.now()\n",
    "# print(current_time)\n",
    "\n",
    "# print(datetime.datetime.now())\n",
    "\n",
    "# #start time\n",
    "# start_hour,start_min=9,30\n",
    "# #end time\n",
    "# end_hour,end_min=23,30\n",
    "# start_time=datetime.datetime(current_time.year,current_time.month,current_time.day,start_hour,start_min)\n",
    "# end_time=datetime.datetime(current_time.year,current_time.month,current_time.day,end_hour,end_min)\n",
    "# print(start_time)\n",
    "# print(end_time)\n",
    "\n",
    "# while True:\n",
    "#     if datetime.datetime.now()>start_time:\n",
    "#         break\n",
    "#     print(datetime.datetime.now())\n",
    "\n",
    "\n",
    "# candle_size=60\n",
    "\n",
    "# while datetime.datetime.now()<end_time:\n",
    "#     now = datetime.datetime.now()\n",
    "#     seconds_until_next_minute = candle_size - now.second+1\n",
    "\n",
    "#     # Sleep until the end of the current minute\n",
    "#     time.sleep(seconds_until_next_minute)\n",
    "\n",
    "#     # Run your function\n",
    "#     main()"
   ]
  },
  {
   "cell_type": "code",
   "execution_count": null,
   "metadata": {},
   "outputs": [],
   "source": [
    "main()"
   ]
  },
  {
   "cell_type": "code",
   "execution_count": 51,
   "metadata": {},
   "outputs": [],
   "source": [
    "ib.disconnect()"
   ]
  },
  {
   "cell_type": "code",
   "execution_count": null,
   "metadata": {},
   "outputs": [],
   "source": []
  }
 ],
 "metadata": {
  "kernelspec": {
   "display_name": "Python 3",
   "language": "python",
   "name": "python3"
  },
  "language_info": {
   "codemirror_mode": {
    "name": "ipython",
    "version": 3
   },
   "file_extension": ".py",
   "mimetype": "text/x-python",
   "name": "python",
   "nbconvert_exporter": "python",
   "pygments_lexer": "ipython3",
   "version": "3.11.4"
  }
 },
 "nbformat": 4,
 "nbformat_minor": 2
}
